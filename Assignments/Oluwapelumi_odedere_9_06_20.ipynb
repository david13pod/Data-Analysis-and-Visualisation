{
 "cells": [
  {
   "cell_type": "code",
   "execution_count": null,
   "metadata": {},
   "outputs": [],
   "source": [
    "import pandas as pd\n",
    "import numpy as np\n",
    "import matplotlib.pyplot as plt\n",
    "%matplotlib inline"
   ]
  },
  {
   "cell_type": "code",
   "execution_count": null,
   "metadata": {},
   "outputs": [],
   "source": [
    "file = \"C:\\\\Users\\\\user\\\\Desktop\\\\TUT\\\\Data VIs and Analysis\\\\oluwapelumi_odedere_data.csv\"\n",
    "\n",
    "data = pd.read_csv(file)\n",
    "#data"
   ]
  },
  {
   "cell_type": "markdown",
   "metadata": {},
   "source": [
    "__Histogramm__"
   ]
  },
  {
   "cell_type": "code",
   "execution_count": null,
   "metadata": {},
   "outputs": [],
   "source": [
    "plt.hist(data[\"temperatureMax\"],\n",
    "              facecolor = \"indigo\",\n",
    "              edgecolor = \"blue\",\n",
    "              bins = 10, range=(0,25))\n",
    "plt.hist(data[\"temperatureMin\"],\n",
    "              facecolor = \"coral\",\n",
    "              edgecolor = \"tan\",\n",
    "              bins = 10, cumulative=True,alpha=0.2)\n",
    "\n",
    "plt.show()"
   ]
  },
  {
   "cell_type": "markdown",
   "metadata": {},
   "source": [
    "__Pie chart__"
   ]
  },
  {
   "cell_type": "code",
   "execution_count": null,
   "metadata": {},
   "outputs": [],
   "source": [
    "from scipy import stats"
   ]
  },
  {
   "cell_type": "code",
   "execution_count": null,
   "metadata": {},
   "outputs": [],
   "source": [
    "freq_density = stats.itemfreq(data[\"total_intl_calls\"])\n",
    "data1 = pd.DataFrame(freq_density, columns=['Intl_calls', 'Frequency'])\n",
    "#F = df1['Frequency'].iloc[0:8]\n",
    "Frequency_Density = data1['Frequency'] *100/30"
   ]
  },
  {
   "cell_type": "code",
   "execution_count": null,
   "metadata": {},
   "outputs": [],
   "source": []
  },
  {
   "cell_type": "code",
   "execution_count": null,
   "metadata": {},
   "outputs": [],
   "source": [
    "labels = '1', '2', '3', '4', '5', '6', '7', '9', '19',\n",
    "sizes = Frequency_Density\n",
    "fig1, ax1 = plt.subplots()\n",
    "ax1.pie(sizes, labels=labels, autopct='%1.0f%%', startangle=90, radius=1.5)\n",
    "ax1.axis('equal') \n",
    "plt.title(\"International calls distribution along traverse\")\n",
    "\n",
    "plt.show()"
   ]
  },
  {
   "cell_type": "markdown",
   "metadata": {},
   "source": [
    "__Line plot__"
   ]
  },
  {
   "cell_type": "code",
   "execution_count": null,
   "metadata": {},
   "outputs": [],
   "source": [
    "fig = plt.figure(figsize = (12,6))\n",
    "ax1 = fig.add_axes([0,0,1,1])\n",
    "plt.xticks(rotation=90)\n",
    "ax2 = fig.add_axes([0.45, 0.6, 0.5, 0.3])\n",
    "plt.xticks(rotation=90)\n",
    "\n",
    "ax1.set_title(\"Na_sales and Eu_sales (insert)\")\n",
    "\n",
    "ax1.plot(data['TIV 7'],\n",
    "        data['NA_Sales'],\n",
    "        color = \"firebrick\") \n",
    "ax1.set_ylabel(\"million\") \n",
    "ax1.set_xlabel(\"Products\") \n",
    "\n",
    "# Set attributes for insert graph\n",
    "ax2.plot(data['TIV 7'],\n",
    "        data['EU_Sales'],\n",
    "        color = \"lightsalmon\") \n",
    "ax2.set_ylabel(\"million\") \n",
    "ax2.set_xlabel(\"Products\") \n",
    "plt.show()"
   ]
  },
  {
   "cell_type": "code",
   "execution_count": null,
   "metadata": {},
   "outputs": [],
   "source": [
    "fig = plt.figure(figsize =(20,8))\n",
    "\n",
    "plt.suptitle(\"variation in calls along different states\",\n",
    "            fontsize = 18)\n",
    "\n",
    "#Create plot ax1 = \"Total_day_calls\"\n",
    "ax1 = fig.add_subplot(231) \n",
    "plt.xticks(rotation=90)\n",
    "ax1.set_title(\"Total_day_calls\") \n",
    "ax1.plot(data['TIV 5'],\n",
    "         data['Total_day_call'],\n",
    "        color = \"cornflowerblue\") \n",
    "plt.axhline(y = 100, linewidth=2, color='m') # Insert horizontal line \n",
    "\n",
    "#Create plot ax2 = \"total_night_calls\"\n",
    "ax2 = fig.add_subplot(232)\n",
    "plt.xticks(rotation=90)\n",
    "ax2.set_title(\"Total_night_calls\")\n",
    "ax2.plot(data['TIV 5'],\n",
    "         data['total_night_calls'],\n",
    "        color = \"cornflowerblue\")\n",
    "plt.axhline(y = 100, linewidth=2, color='m')\n",
    "\n",
    "#Create plot ax3 = \"total_eve_calls\"\n",
    "ax3 = fig.add_subplot(233)\n",
    "plt.xticks(rotation=90)\n",
    "ax3.set_title(\"Total_eve_calls\")\n",
    "ax3.plot(data['TIV 5'],\n",
    "         data['total_eve_calls'],\n",
    "        color = \"cornflowerblue\")\n",
    "plt.axhline(y = 100, linewidth=2, color='m')\n",
    "\n",
    "\n",
    "#plt.setxlabel = \"kg/m²*a\""
   ]
  },
  {
   "cell_type": "markdown",
   "metadata": {},
   "source": [
    "__Boxplot and Violinplot__"
   ]
  },
  {
   "cell_type": "markdown",
   "metadata": {},
   "source": [
    "__Boxplot__"
   ]
  },
  {
   "cell_type": "code",
   "execution_count": null,
   "metadata": {},
   "outputs": [],
   "source": [
    "value1=data[\"NA_Sales\"]  \n",
    "\n",
    "value2 = data[\"EU_Sales\"] \n",
    "\n",
    "value3=data[\"Other_Sales\"]  \n",
    "\n",
    "# Assigning the boxplot data\n",
    "plot_data=[value1,value2,value3]\n",
    "\n",
    "# Defining the colors\n",
    "colors = ['springgreen', 'turquoise', 'cyan']\n",
    "\n",
    "bp = plt.boxplot(plot_data,\n",
    "                patch_artist = True,\n",
    "                notch = True)\n",
    "for i in range(len(bp['boxes'])):\n",
    "    bp['boxes'][i].set(facecolor = colors[i])\n",
    "    bp['caps'][2*i + 1].set(color = colors[i])\n",
    "    \n",
    "plt.xticks([1,2,3],['NA', 'EU', 'Others'])\n",
    "\n",
    "plt.show()"
   ]
  },
  {
   "cell_type": "markdown",
   "metadata": {},
   "source": [
    "__Violinplot__"
   ]
  },
  {
   "cell_type": "code",
   "execution_count": null,
   "metadata": {},
   "outputs": [],
   "source": [
    "vp = plt.violinplot(plot_data,\n",
    "                   showmedians = True)\n",
    "plt.xticks([1,2,3],['NA', 'EU', 'Others'])\n",
    "\n",
    "for i in range(len(vp['bodies'])):\n",
    "    vp['bodies'][i].set(facecolor=colors[i])\n",
    "    \n",
    "plt.show()"
   ]
  },
  {
   "cell_type": "markdown",
   "metadata": {},
   "source": [
    "__Stack plot__"
   ]
  },
  {
   "cell_type": "code",
   "execution_count": null,
   "metadata": {},
   "outputs": [],
   "source": [
    "# Applying the rolling mean in 10 km steps (= 20 windows) on the accumulation data\n",
    "rmean1=data['Total_day_call'].rolling(window=2, min_periods=1).mean()\n",
    "rmean2=data['total_night_calls'].rolling(window=2, min_periods=1).mean()\n",
    "rmean3=data['total_eve_calls'].rolling(window=2, min_periods=1).mean()\n",
    "\n",
    "plt.figure(figsize=(12, 6))\n",
    "\n",
    "x = data['TIV 5']\n",
    "\n",
    "y = np.vstack([rmean1,rmean2,rmean3])\n",
    "\n",
    "labels = ['Total day calls',\n",
    "         'Total night calls',\n",
    "         'Total eve calls']\n",
    "\n",
    "colors = ['paleturquoise',\n",
    "          'turquoise',\n",
    "          'darkturquoise']\n",
    "\n",
    "# Plot data as stackplot, with afore defined labels and color. \n",
    "# The color that seperates the different stacks is chosen to be 'white'\n",
    "plt.stackplot(x,y,\n",
    "             labels = labels,\n",
    "             colors = colors,\n",
    "             edgecolor = 'white')\n",
    "plt.xticks(rotation=90)\n",
    "\n",
    "plt.xlabel('States')\n",
    "plt.ylabel('Number of calls')\n",
    "\n",
    "# Add a legend and define its position using loc= 'a number between 0 and 11'\n",
    "plt.legend(loc=9)\n",
    "\n",
    "# Automatically arranges a tight layout of your graph\n",
    "plt.tight_layout()\n",
    "\n",
    "plt.show()"
   ]
  },
  {
   "cell_type": "markdown",
   "metadata": {},
   "source": [
    "__Stem plot__"
   ]
  },
  {
   "cell_type": "code",
   "execution_count": null,
   "metadata": {},
   "outputs": [],
   "source": [
    "\n",
    "# Create a copy of your data set\n",
    "stem_data = data.copy()\n",
    "\n",
    "stem_data[['Tempchangemax', 'Tempchangemin']] = data[['temperatureMax','temperatureMin']].diff()\n",
    "\n",
    "\n",
    "plt.figure(figsize=(15,11))\n",
    "plt.suptitle('Temperature Change for Max and Min Temperature', y=1.03 , fontsize=20)\n",
    "\n",
    "# Define the x-axis for both plots\n",
    "time = data['TDV 1']\n",
    "\n",
    "plt.subplot(311)\n",
    "plt.xticks(rotation=90)\n",
    "plt.stem(time, \n",
    "         stem_data['Tempchangemax'], \n",
    "         markerfmt = 'g_', \n",
    "         linefmt = 'b--', \n",
    "         basefmt='r-') \n",
    "plt.title('Max Temperature change from March to December')\n",
    "\n",
    "\n",
    "plt.subplot(312)\n",
    "plt.xticks(rotation=90)\n",
    "plt.stem(time, \n",
    "         stem_data['Tempchangemin'],\n",
    "         markerfmt = 'g_',\n",
    "         linefmt = 'b--',\n",
    "         basefmt='r-')\n",
    "plt.title('Min Temperature change from March to December')\n",
    "\n",
    "plt.text(6, -9, 'Differences in measured temperature between the months, due to the changes in season', style='italic',\n",
    "        bbox={'facecolor': 'azure', 'alpha': 0.5, 'pad': 10}) # Define th style of the box\n",
    "\n",
    "# Improves the layout to a tight version\n",
    "plt.tight_layout()\n",
    "\n",
    "plt.show()"
   ]
  },
  {
   "cell_type": "code",
   "execution_count": null,
   "metadata": {},
   "outputs": [],
   "source": []
  },
  {
   "cell_type": "code",
   "execution_count": null,
   "metadata": {},
   "outputs": [],
   "source": []
  }
 ],
 "metadata": {
  "kernelspec": {
   "display_name": "Python 3",
   "language": "python",
   "name": "python3"
  },
  "language_info": {
   "codemirror_mode": {
    "name": "ipython",
    "version": 3
   },
   "file_extension": ".py",
   "mimetype": "text/x-python",
   "name": "python",
   "nbconvert_exporter": "python",
   "pygments_lexer": "ipython3",
   "version": "3.7.3"
  }
 },
 "nbformat": 4,
 "nbformat_minor": 2
}
