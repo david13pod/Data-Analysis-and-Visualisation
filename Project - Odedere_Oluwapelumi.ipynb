{
 "cells": [
  {
   "cell_type": "markdown",
   "metadata": {},
   "source": [
    "\n",
    "\n",
    "\n"
   ]
  },
  {
   "cell_type": "markdown",
   "metadata": {},
   "source": [
    "\n",
    "# Data Analysis and Visualisation \n",
    "\n",
    "# Project"
   ]
  },
  {
   "cell_type": "markdown",
   "metadata": {},
   "source": []
  },
  {
   "cell_type": "markdown",
   "metadata": {},
   "source": [
    "\n",
    "## Summer Semester 2020\n",
    "\n",
    "\n",
    "\n",
    "**24.07.2020**"
   ]
  },
  {
   "cell_type": "markdown",
   "metadata": {},
   "source": []
  },
  {
   "cell_type": "markdown",
   "metadata": {},
   "source": [
    "\n",
    "### Name: Odedere Oluwapelumi\n",
    "\n",
    "\n",
    "### Matric No: 3202465\n"
   ]
  },
  {
   "cell_type": "markdown",
   "metadata": {},
   "source": [
    "<p style='text-align: right;'> 1 </p>"
   ]
  },
  {
   "cell_type": "markdown",
   "metadata": {},
   "source": []
  },
  {
   "cell_type": "markdown",
   "metadata": {},
   "source": [
    "# Table of content"
   ]
  },
  {
   "cell_type": "markdown",
   "metadata": {},
   "source": []
  },
  {
   "cell_type": "markdown",
   "metadata": {},
   "source": [
    "### 1. **Introduction** \n",
    "   - Data Presentation\n",
    "   - Initilization\n",
    "   - DataFrame Overview\n",
    "        \n",
    "### 2. **Methodology**\n",
    "   - Statistical Methods\n",
    "    - Age Variable\n",
    "    - Gender Variable\n",
    "    - Monthly cases Variable\n",
    "    \n",
    "### 3. **Results**\n",
    "   - Age range\n",
    "   - Gender ratio\n",
    "   - Body camera and sign of mental illness\n",
    "   \n",
    "### 4. **Discussion**\n",
    "   - Racial Distribution\n",
    "   - Armed state\n",
    "   - Mental illness with respect to Age\n",
    "   \n",
    "### 5. **References**"
   ]
  },
  {
   "cell_type": "markdown",
   "metadata": {},
   "source": []
  },
  {
   "cell_type": "markdown",
   "metadata": {},
   "source": [
    "<p style='text-align: right;'> 2 </p>"
   ]
  },
  {
   "cell_type": "markdown",
   "metadata": {},
   "source": []
  },
  {
   "cell_type": "markdown",
   "metadata": {},
   "source": [
    "### Introduction"
   ]
  },
  {
   "cell_type": "markdown",
   "metadata": {},
   "source": [
    "In light of the recent black live matter movement (BLM), I decided to take a look at fatal shooting by Police Officers in USA. The dataset used in this project was uploaded on Kaggele.com by Andriy Samoshin $^{1}$. The dataset was collated by a Police officer in USA and spans from 2015 to 2020. The dataset contains detais such as age, race, manner of death,date, gender etc.\n",
    "\n",
    "For the purpose of this course I will be taking a look at the first six months of 2015: analysing and visualising the information presented in the dataset in order to gain some insights to the fatal shooting and claimed Police brutality."
   ]
  },
  {
   "cell_type": "markdown",
   "metadata": {},
   "source": [
    "#### initialization"
   ]
  },
  {
   "cell_type": "code",
   "execution_count": null,
   "metadata": {},
   "outputs": [],
   "source": [
    "#Importing the necessary libraries for running Analysis and Visualsation\n",
    "\n",
    "import pandas as pd\n",
    "import numpy as np\n",
    "import matplotlib.pyplot as plt\n",
    "%matplotlib inline\n",
    "import seaborn as sns\n",
    "sns.set(rc={'figure.figsize':(16, 4)})\n",
    "from scipy import stats"
   ]
  },
  {
   "cell_type": "code",
   "execution_count": null,
   "metadata": {},
   "outputs": [],
   "source": [
    "# Reading the file as a dataframe\n",
    "\n",
    "file = \"C:\\\\Users\\\\user\\\\Desktop\\\\TUT\\\\Data VIs and Analysis\\\\dataset.csv\"\n",
    "\n",
    "data = pd.read_csv(file)\n",
    "data.columns\n"
   ]
  },
  {
   "cell_type": "markdown",
   "metadata": {},
   "source": [
    "#### Overview"
   ]
  },
  {
   "cell_type": "markdown",
   "metadata": {},
   "source": [
    "A quick overview of the dataframe content which includes all columns for the first five rows and last five rows."
   ]
  },
  {
   "cell_type": "markdown",
   "metadata": {},
   "source": []
  },
  {
   "cell_type": "code",
   "execution_count": null,
   "metadata": {},
   "outputs": [],
   "source": [
    "data.head()"
   ]
  },
  {
   "cell_type": "code",
   "execution_count": null,
   "metadata": {},
   "outputs": [],
   "source": [
    "data.tail()"
   ]
  },
  {
   "cell_type": "markdown",
   "metadata": {},
   "source": []
  },
  {
   "cell_type": "markdown",
   "metadata": {},
   "source": [
    "<p style='text-align: right;'> 2 </p>"
   ]
  },
  {
   "cell_type": "markdown",
   "metadata": {},
   "source": []
  },
  {
   "cell_type": "markdown",
   "metadata": {},
   "source": [
    "### Methodology\n"
   ]
  },
  {
   "cell_type": "markdown",
   "metadata": {},
   "source": []
  },
  {
   "cell_type": "markdown",
   "metadata": {},
   "source": [
    "In this analysis a few statistical methods are used on the age and gender variables in the dataset. Statistical methods used are:\n",
    "- Mean: The average of values specified or the sum of the values divided by the number of values.\n",
    "- Max: Maximum value of a column\n",
    "- Min: Minimun value of a column\n",
    "- Mode: Most common value in a column\n",
    "- Frequency Density: Percentage of each unique values\n",
    "- length: Counts according to the condition specified "
   ]
  },
  {
   "cell_type": "markdown",
   "metadata": {},
   "source": []
  },
  {
   "cell_type": "code",
   "execution_count": null,
   "metadata": {},
   "outputs": [],
   "source": [
    "#converting the age column to numeric data  type\n",
    "data['age'] = pd.to_numeric(data['age'])\n",
    "data['age'].isnull().sum()"
   ]
  },
  {
   "cell_type": "markdown",
   "metadata": {},
   "source": [
    "**Maximum**"
   ]
  },
  {
   "cell_type": "code",
   "execution_count": null,
   "metadata": {},
   "outputs": [],
   "source": [
    "max(data['age'])"
   ]
  },
  {
   "cell_type": "markdown",
   "metadata": {},
   "source": [
    "**Minimum**"
   ]
  },
  {
   "cell_type": "code",
   "execution_count": null,
   "metadata": {},
   "outputs": [],
   "source": [
    "min(data['age'])"
   ]
  },
  {
   "cell_type": "markdown",
   "metadata": {},
   "source": [
    "**Mean**"
   ]
  },
  {
   "cell_type": "code",
   "execution_count": null,
   "metadata": {},
   "outputs": [],
   "source": [
    "data['age'].mean()"
   ]
  },
  {
   "cell_type": "markdown",
   "metadata": {},
   "source": [
    "**Mode**"
   ]
  },
  {
   "cell_type": "code",
   "execution_count": null,
   "metadata": {},
   "outputs": [],
   "source": [
    "data['age'].mode()"
   ]
  },
  {
   "cell_type": "markdown",
   "metadata": {},
   "source": [
    "**Count of most occuring**"
   ]
  },
  {
   "cell_type": "code",
   "execution_count": null,
   "metadata": {},
   "outputs": [],
   "source": [
    "data['age'].value_counts().head(3)"
   ]
  },
  {
   "cell_type": "markdown",
   "metadata": {},
   "source": [
    "**Count of cases with ages below 18 years**"
   ]
  },
  {
   "cell_type": "code",
   "execution_count": null,
   "metadata": {},
   "outputs": [],
   "source": [
    "agebrac = data['age']\n",
    "threshold = agebrac < 18\n",
    "\n",
    "len(agebrac[threshold])\n"
   ]
  },
  {
   "cell_type": "markdown",
   "metadata": {},
   "source": []
  },
  {
   "cell_type": "markdown",
   "metadata": {},
   "source": [
    "**Gender Statistics**"
   ]
  },
  {
   "cell_type": "code",
   "execution_count": null,
   "metadata": {},
   "outputs": [],
   "source": [
    "# Calculating the frequency of individual density values\n",
    "freq_density = stats.itemfreq(data[\"gender\"])\n",
    "# Calculations on frequency are transformed to DataFrame(df1)\n",
    "datbar = pd.DataFrame(freq_density, columns=['gender', 'Frequency'])\n",
    "F = datbar['Frequency'].iloc[0:2]\n",
    "# Calculating percentage distribution (902 = number of rows)\n",
    "Frequency_Density = F *100/465"
   ]
  },
  {
   "cell_type": "code",
   "execution_count": null,
   "metadata": {},
   "outputs": [],
   "source": [
    "datbar"
   ]
  },
  {
   "cell_type": "code",
   "execution_count": null,
   "metadata": {},
   "outputs": [],
   "source": [
    "Frequency_Density"
   ]
  },
  {
   "cell_type": "markdown",
   "metadata": {},
   "source": []
  },
  {
   "cell_type": "markdown",
   "metadata": {},
   "source": []
  },
  {
   "cell_type": "code",
   "execution_count": null,
   "metadata": {},
   "outputs": [],
   "source": [
    "gend = datbar[\"gender\"]  \n",
    "Freq = datbar[\"Frequency\"]  \n",
    "\n",
    "#plt.bar(gend, Freq)\n",
    "labels=['Female','male']\n",
    "ax=sns.barplot(data=datbar, x = gend, y = Freq,hue='Frequency' )\n",
    "# Easily change the labels\n",
    "plt.xlabel('Gender')  \n",
    "plt.ylabel('Frequency')\n",
    "plt.title(\"Gender distribution\")\n",
    "\n",
    "h, l = ax.get_legend_handles_labels()\n",
    "ax.legend(h, labels,)\n",
    "plt.show() "
   ]
  },
  {
   "cell_type": "markdown",
   "metadata": {},
   "source": [
    "**States with the highest number of fatal shooting**"
   ]
  },
  {
   "cell_type": "code",
   "execution_count": null,
   "metadata": {},
   "outputs": [],
   "source": [
    "state_count=data['state'].value_counts()\n",
    "state_count.head()"
   ]
  },
  {
   "cell_type": "code",
   "execution_count": null,
   "metadata": {},
   "outputs": [],
   "source": [
    "state_count.tail()"
   ]
  },
  {
   "cell_type": "markdown",
   "metadata": {},
   "source": [
    "**Monthly Cases**"
   ]
  },
  {
   "cell_type": "code",
   "execution_count": null,
   "metadata": {},
   "outputs": [],
   "source": [
    "\n",
    "#converting the date column to a datetime series and extracting only the monnth\n",
    "\n",
    "data['date'] = pd.to_datetime(data['date'])\n",
    "from datetime import datetime as dt\n",
    "data['month'] =data['date'].dt.strftime(\"%b\")"
   ]
  },
  {
   "cell_type": "code",
   "execution_count": null,
   "metadata": {},
   "outputs": [],
   "source": [
    "# Calculating the frequency of individual month\n",
    "freq_cases = stats.itemfreq(data[\"month\"])\n",
    "\n",
    "datbar2 = pd.DataFrame(freq_cases, columns=['Month', 'Number of cases'])\n",
    "\n",
    "F = datbar2['Number of cases'].iloc[0:8]\n",
    "Frequency_Density = F *100/465\n",
    "\n",
    "#Sorting the month in ascending order\n",
    "datbar2[\"sorte\"]=[4,2,1,6,3,5]\n",
    "datbar2=datbar2.sort_values(by=\"sorte\",ascending=True)\n",
    "datbar2"
   ]
  },
  {
   "cell_type": "code",
   "execution_count": null,
   "metadata": {},
   "outputs": [],
   "source": [
    "#Standard deviation of Number of cases per month\n",
    "np.std(datbar2['Number of cases'])"
   ]
  },
  {
   "cell_type": "code",
   "execution_count": null,
   "metadata": {},
   "outputs": [],
   "source": [
    "#Number of cases per month\n",
    "\n",
    "months = datbar2[\"Month\"]  \n",
    "N_Freq = datbar2[\"Number of cases\"]  \n",
    "\n",
    "sns.barplot(x=months, y=N_Freq)\n",
    "\n",
    "# Easily change the labels\n",
    "plt.xlabel('Month')  \n",
    "plt.ylabel('Cases')\n",
    "plt.title(\"Cases per Month\")\n",
    "plt.show()"
   ]
  },
  {
   "cell_type": "markdown",
   "metadata": {},
   "source": []
  },
  {
   "cell_type": "markdown",
   "metadata": {},
   "source": [
    "### Results"
   ]
  },
  {
   "cell_type": "markdown",
   "metadata": {},
   "source": []
  },
  {
   "cell_type": "markdown",
   "metadata": {},
   "source": [
    "It is seen that from January to June 2015, the minimum age of the person involved in a fatal shooting is 15 years, while the oldest person is 86 years. The average age is 37 years, but the most common ages of people involved are **28,31,36** years with **18 occurences** each. Of the 465 cases, 11 of them are below 18 years of age. Graphical representation is shown below"
   ]
  },
  {
   "cell_type": "code",
   "execution_count": null,
   "metadata": {},
   "outputs": [],
   "source": [
    "#Plotting Age variable Histogram\n",
    "data[\"age\"].plot.hist()\n",
    "plt.xlabel('Age range')  \n",
    "plt.title(\"Age histogram\")"
   ]
  },
  {
   "cell_type": "markdown",
   "metadata": {},
   "source": [
    "Taking a look at the g\n",
    "ender variable statistics in the previous section, it is seen that Men (males) are more likely to be involved in a fatal shooting compared to Females as **442** of the **465** cases analysed are men.In percentage representation: approximately **95% men** and **5% women**. Graphical representation is seen in the Gender distribution graph in the previous section."
   ]
  },
  {
   "cell_type": "markdown",
   "metadata": {},
   "source": []
  },
  {
   "cell_type": "markdown",
   "metadata": {},
   "source": [
    "The differences between the number of cases each month does not tend to be large as the standard deviation is approximately 9 cases, however **California**$^{2}$ state stands out when it comes to total number of cases, as it contributes largely to the total fatal cases followed by **Texas**$^{2}$."
   ]
  },
  {
   "cell_type": "markdown",
   "metadata": {},
   "source": []
  },
  {
   "cell_type": "code",
   "execution_count": null,
   "metadata": {},
   "outputs": [],
   "source": [
    "#Graphical representation of cases per month based on mental illness state\n",
    "data[\"signs_of_mental_illness\"] = data[\"signs_of_mental_illness\"].astype(str)\n",
    "months=['Jan','Feb','Mar','Apr','May','Jun']\n",
    "datbar4=pd.DataFrame()\n",
    "for m in months:\n",
    "    temp_data=data.loc[data[\"month\"]==m]    \n",
    "    #freq_arms = stats.itemfreq(temp_data[\"signs_of_mental_illness\"])\n",
    "    freq_ill = np.unique(temp_data[\"signs_of_mental_illness\"],return_counts=True,)\n",
    "    datbar4 = datbar4.append(pd.DataFrame(freq_ill[1:], columns=['False', 'True']),ignore_index=True)\n",
    "datbar4['month']=months\n"
   ]
  },
  {
   "cell_type": "code",
   "execution_count": null,
   "metadata": {},
   "outputs": [],
   "source": [
    "#Graphical representation of cases per month based on body camera usuage\n",
    "data[\"threat_level\"] = data[\"threat_level\"].astype(str)\n",
    "data[\"body_camera\"] = data[\"body_camera\"].astype(str)\n",
    "months=['Jan','Feb','Mar','Apr','May','Jun']\n",
    "datbar5=pd.DataFrame()\n",
    "for m in months:\n",
    "    temp_data2=data.loc[data[\"month\"]==m]    \n",
    "    #freq_arms = stats.itemfreq(temp_data[\"signs_of_mental_illness\"])\n",
    "    freq_camera = np.unique(temp_data2[\"body_camera\"],return_counts=True,)\n",
    "    datbar5 = datbar5.append(pd.DataFrame(freq_camera[1:], columns=['False', 'True']),ignore_index=True)\n",
    "datbar5['month']=months\n"
   ]
  },
  {
   "cell_type": "code",
   "execution_count": null,
   "metadata": {},
   "outputs": [],
   "source": [
    "width = 0.35  # the width of the bars\n",
    "x = np.arange(len(datbar4['month'])) \n",
    "xx = np.arange(len(datbar5['month'])) \n",
    "\n",
    "fig = plt.figure(figsize =(20,8))\n",
    "ax = fig.add_subplot(121)\n",
    "ax.bar(x - width/2, datbar4['False'], width, label='False')\n",
    "ax.bar(x + width/2, datbar4['True'], width, label='True')\n",
    "\n",
    "ax1 = fig.add_subplot(122)\n",
    "ax1.bar(xx - width/2, datbar5['False'], width, label='False')\n",
    "ax1.bar(xx + width/2, datbar5['True'], width, label='True')\n",
    "\n",
    "# Add some text for labels, title and custom x-axis tick labels, etc.\n",
    "ax.set_ylabel('Number of cases')\n",
    "ax.set_title('Number of signs_of_mental_illness for cases per month')\n",
    "ax.set_xticks(x)\n",
    "ax.set_xticklabels(datbar4['month'])\n",
    "\n",
    "ax1.set_ylabel('Number of cases')\n",
    "ax1.set_title('Number of cases with bodycam on Police per month')\n",
    "ax1.set_xticks(xx)\n",
    "ax1.set_xticklabels(datbar5['month'])\n",
    "\n",
    "ax.legend()\n",
    "ax1.legend()"
   ]
  },
  {
   "cell_type": "markdown",
   "metadata": {},
   "source": []
  },
  {
   "cell_type": "markdown",
   "metadata": {},
   "source": [
    "The above graphical representations also shows cases per month based on mental illness state and bpdy camera usage. It is seen that less than **35%** of people involved in the fatal shooting have signs of mental illness while the use of body camera is extremely low."
   ]
  },
  {
   "cell_type": "markdown",
   "metadata": {},
   "source": []
  },
  {
   "cell_type": "markdown",
   "metadata": {},
   "source": [
    "### Discussion"
   ]
  },
  {
   "cell_type": "markdown",
   "metadata": {},
   "source": []
  },
  {
   "cell_type": "markdown",
   "metadata": {},
   "source": [
    "It is important to take a look at the racial distribution of the total cases provides, as it very much relates to the motivation for choosing this particular dataset. The analysis is shown below:"
   ]
  },
  {
   "cell_type": "markdown",
   "metadata": {},
   "source": []
  },
  {
   "cell_type": "code",
   "execution_count": null,
   "metadata": {},
   "outputs": [],
   "source": [
    "# Calculating the frequency of individual race\n",
    "data[\"race\"] = data[\"race\"].astype(str)\n",
    "freq_density = stats.itemfreq(data[\"race\"])\n",
    "# Calculations on frequency are transformed to DataFrame(df1)\n",
    "datbar1 = pd.DataFrame(freq_density, columns=['race','Frequency1'])\n",
    "\n",
    "#sorting the dataframe\n",
    "datbar1[\"sorter\"]=[1,2,4,3,5,6,7]\n",
    "datbar1=datbar1.sort_values(by=\"sorter\",ascending=True)\n",
    "\n",
    "F = datbar1['Frequency1'].iloc[0:8]\n",
    "# Calculating percentage distribution \n",
    "Frequency_Density = F *100/465"
   ]
  },
  {
   "cell_type": "markdown",
   "metadata": {},
   "source": [
    "W: White, non-Hispanic B: Black, non-Hispanic A: Asian N: Native American H: Hispanic O: Other None: unknown"
   ]
  },
  {
   "cell_type": "code",
   "execution_count": null,
   "metadata": {},
   "outputs": [],
   "source": [
    "\n",
    "#Define the labels for your slices\n",
    "labels = 'Asian', 'Black', 'Native', 'Hispanic',  'Others', 'White', 'Unknown'\n",
    "#Define the size of the slices.\n",
    "sizes = Frequency_Density\n",
    "\n",
    "# Defining that everything is plotted together.\n",
    "fig1, ax1 = plt.subplots()\n",
    "\n",
    "# Filling the pie with information\n",
    "# Now, that we defined the plot above it's not necessary to use plt. in front of plot related functions, e.g. ax1.pie()\n",
    "ax1.pie(sizes, labels=labels, autopct='%1.1f%%', startangle=180)\n",
    "\n",
    "# Equal aspect ratio ensures that pie is drawn as a circle.\n",
    "ax1.axis('equal')  \n",
    "\n",
    "# Add a title\n",
    "plt.title(\"Pie Chart showing Race Distribution\")\n",
    "\n",
    "plt.show()"
   ]
  },
  {
   "cell_type": "markdown",
   "metadata": {},
   "source": [
    "From the pie chart above the White race accounts for more than half of the total fatal cases (January - June 2015) then folllowed by the Black race living in USA. However it further analysis can be done to ascertain the ratio of the total population of each race to the number of cases presented here."
   ]
  },
  {
   "cell_type": "markdown",
   "metadata": {},
   "source": [
    "Also, a look into the \"armed\" state of people involved in this fatal cases, shows over 50% were armed with guns followed by Knives. A stricter gun control law should reduce the frequency of cases drastically. The graph is displayed below."
   ]
  },
  {
   "cell_type": "markdown",
   "metadata": {},
   "source": []
  },
  {
   "cell_type": "code",
   "execution_count": null,
   "metadata": {},
   "outputs": [],
   "source": [
    "data[\"armed\"] = data[\"armed\"].astype(str)\n",
    "freq_arms = stats.itemfreq(data[\"armed\"])\n",
    "# Calculations on frequency are transformed to DataFrame(df1)\n",
    "datbar3 = pd.DataFrame(freq_arms, columns=['Arm_type', 'Arm_Frequency'])\n",
    "F3 = datbar3['Arm_Frequency'].iloc[0:8]\n"
   ]
  },
  {
   "cell_type": "code",
   "execution_count": null,
   "metadata": {},
   "outputs": [],
   "source": [
    "Arm_type = datbar3[\"Arm_type\"]  \n",
    "Arm_Frequency = datbar3[\"Arm_Frequency\"]  \n",
    "\n",
    "plt.bar(Arm_type, Arm_Frequency)\n",
    "plt.xticks(rotation=90)\n",
    "# Easily change the labels\n",
    "plt.xlabel('Arm_type')  \n",
    "plt.ylabel('Arm_Frequency')\n",
    "plt.title('Armed state of peopple involved')\n",
    "plt.show()"
   ]
  },
  {
   "cell_type": "markdown",
   "metadata": {},
   "source": []
  },
  {
   "cell_type": "markdown",
   "metadata": {},
   "source": [
    "The large difference in gender statistic is also alarming. As more males are involved in ratio 1 woman to 19 men. More social rehabilitation$^{3}$ should be targeted towards men especially in the age bracket 25 to 40 (as seen in the graph below), this should ultimately reduce the trend. "
   ]
  },
  {
   "cell_type": "code",
   "execution_count": null,
   "metadata": {},
   "outputs": [],
   "source": [
    "sns.set(rc={'figure.figsize':(25, 14)})\n",
    "sns.countplot(x = \"age\", hue = \"signs_of_mental_illness\",data = data, palette = 'Set2')\n",
    "plt.title('Sign of Mental Illness with respect to age')"
   ]
  },
  {
   "cell_type": "markdown",
   "metadata": {},
   "source": []
  },
  {
   "cell_type": "markdown",
   "metadata": {},
   "source": [
    "### References"
   ]
  },
  {
   "cell_type": "markdown",
   "metadata": {},
   "source": [
    "1. Andriy Samoshin, Data Police shootings https://www.kaggle.com/mrmorj/data-police-shootings. (Accessed: 01.07.2020).\n",
    "2. List of All 50 US State Abbreviations, https://abbreviations.yourdictionary.com/articles/state-abbrev.html (Accessed: 18.07.2020).\n",
    "3. Pam M.S. SOCIAL REHABILITATION. https://psychologydictionary.org/social-rehabilitation/#:~:text=The%20achievement%20of%20a%20higher,with%20physical%20impairments%20or%20disabilities. (Created: April 13, 2013, Accessed: 23.07.2020)."
   ]
  },
  {
   "cell_type": "markdown",
   "metadata": {},
   "source": []
  },
  {
   "cell_type": "code",
   "execution_count": null,
   "metadata": {},
   "outputs": [],
   "source": []
  }
 ],
 "metadata": {
  "kernelspec": {
   "display_name": "Python 3",
   "language": "python",
   "name": "python3"
  },
  "language_info": {
   "codemirror_mode": {
    "name": "ipython",
    "version": 3
   },
   "file_extension": ".py",
   "mimetype": "text/x-python",
   "name": "python",
   "nbconvert_exporter": "python",
   "pygments_lexer": "ipython3",
   "version": "3.7.3"
  }
 },
 "nbformat": 4,
 "nbformat_minor": 2
}
