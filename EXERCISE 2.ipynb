{
 "cells": [
  {
   "cell_type": "code",
   "execution_count": 4,
   "metadata": {},
   "outputs": [],
   "source": [
    "import numpy as np\n",
    "\n",
    "import matplotlib.pyplot as plt\n",
    "\n",
    "import pandas as pd"
   ]
  },
  {
   "cell_type": "code",
   "execution_count": 2,
   "metadata": {},
   "outputs": [
    {
     "data": {
      "text/plain": [
       "'C:\\\\Users\\\\user\\\\Desktop\\\\TUT\\\\Data VIs and Analysis'"
      ]
     },
     "execution_count": 2,
     "metadata": {},
     "output_type": "execute_result"
    }
   ],
   "source": [
    "import os\n",
    "os.getcwd()"
   ]
  },
  {
   "cell_type": "code",
   "execution_count": 3,
   "metadata": {},
   "outputs": [
    {
     "name": "stdout",
     "output_type": "stream",
     "text": [
      "Long°_95/96\tLat°_95/96\n",
      "\t\n",
      "9.218383333\t74.50163333\n",
      "9.215966667\t74.49675\n",
      "9.21165\t74.49165\n",
      "9.209183333\t74.48868333\n",
      "9.204833333\t74.48328333\n",
      "9.202566667\t74.47971667\n",
      "9.199466667\t74.47533333\n",
      "9.19685\t74.47055\n",
      "9.193183333\t74.46618333\n",
      "9.189766667\t74.46173333\n",
      "9.188766667\t74.45725\n",
      "9.183516667\t74.45273333\n",
      "9.18045\t74.44795\n",
      "9.204283333\t74.44186667\n",
      "9.214683333\t74.43856667\n",
      "9.237516667\t74.4325\n",
      "9.247766667\t74.42905\n",
      "9.259916667\t74.42606667\n",
      "9.287116667\t74.41865\n",
      "9.298283333\t74.41543333\n",
      "9.308983333\t74.4119\n",
      "9.331383333\t74.40558333\n",
      "9.345683333\t74.40216667\n",
      "9.3551\t74.39888333\n",
      "9.379483333\t74.39261667\n",
      "9.390666667\t74.38923333\n",
      "9.413466667\t74.38276667\n",
      "9.426666667\t74.37921667\n",
      "9.437466667\t74.37573333\n",
      "0\t0\n",
      "9.426766667\t74.36623333\n",
      "9.382233333\t74.36171667\n",
      "9.350466667\t74.35826667\n",
      "9.289633333\t74.35271667\n",
      "9.25855\t74.34795\n",
      "9.23\t74.34358333\n",
      "9.202216667\t74.33801667\n",
      "9.193433333\t74.3345\n",
      "9.182883333\t74.33078333\n",
      "9.172833333\t74.32728333\n",
      "9.151916667\t74.3201\n",
      "9.152733333\t74.31571667\n",
      "9.15445\t74.31088333\n",
      "9.153783333\t74.30563333\n",
      "9.15125\t74.30213333\n",
      "9.15075\t74.29918333\n",
      "9.14935\t74.29411667\n",
      "9.1469\t74.2897\n",
      "9.14535\t74.28488333\n",
      "9.145916667\t74.28053333\n",
      "9.164066667\t74.27471667\n",
      "9.17505\t74.27138333\n",
      "9.197933333\t74.26516667\n",
      "9.209183333\t74.26218333\n",
      "9.231666667\t74.25605\n",
      "9.261766667\t74.25226667\n",
      "9.320483333\t74.24718333\n",
      "9.368666667\t74.24138333\n",
      "9.405183333\t74.23741667\n",
      "9.43785\t74.23326667\n",
      "9.4722\t74.2298\n",
      "9.50415\t74.226\n",
      "9.535316667\t74.22295\n",
      "9.566666667\t74.21966667\n",
      "9.632166667\t74.21221667\n",
      "9.681\t74.20721667\n",
      "9.710883333\t74.20323333\n",
      "9.744933333\t74.19886667\n",
      "0\t0\n",
      "9.74555\t74.18928333\n",
      "9.7453\t74.18341667\n",
      "9.743883333\t74.17903333\n",
      "0\t0\n",
      "9.745233333\t74.17493333\n",
      "9.743266667\t74.16983333\n",
      "9.742166667\t74.16481667\n",
      "9.742866667\t74.15976667\n",
      "9.7413\t74.15395\n",
      "9.740116667\t74.14928333\n",
      "9.740883333\t74.14488333\n",
      "9.74045\t74.13968333\n",
      "0\t0\n",
      "9.739616667\t74.1341\n",
      "9.73915\t74.13003333\n",
      "9.739766667\t74.1249\n",
      "9.740283333\t74.11943333\n",
      "9.741366667\t74.1152\n",
      "9.740983333\t74.111\n",
      "9.741516667\t74.10618333\n",
      "9.73975\t74.10148333\n",
      "9.737933333\t74.09666667\n",
      "9.738716667\t74.09145\n",
      "9.7378\t74.08598333\n",
      "9.737233333\t74.08191667\n",
      "9.736733333\t74.07555\n",
      "9.736616667\t74.07096667\n",
      "9.73605\t74.06621667\n",
      "9.735733333\t74.06118333\n"
     ]
    }
   ],
   "source": [
    "filename='GPS.txt'\n",
    "file=open(filename,'r')\n",
    "text=file.read()\n",
    "print(text)"
   ]
  },
  {
   "cell_type": "code",
   "execution_count": 6,
   "metadata": {},
   "outputs": [
    {
     "name": "stdout",
     "output_type": "stream",
     "text": [
      "     Distance     A1     A2\n",
      "0         0.0  130.0  206.0\n",
      "1         0.5  260.0  201.0\n",
      "2         1.0  253.0  172.5\n",
      "3         1.5  223.0  140.0\n",
      "4         2.0  211.0   51.0\n",
      "5         2.5  195.0   57.0\n",
      "6         3.0  221.0   93.5\n",
      "7         3.5  212.0   89.5\n",
      "8         4.0  163.0   42.0\n",
      "9         4.5  187.0   55.5\n",
      "10        5.0  216.0   86.0\n",
      "11        5.5  220.0   98.5\n",
      "12        6.0  224.0   92.0\n",
      "13        6.5  106.0  118.0\n",
      "14        7.0  173.0   40.0\n",
      "15        7.5  185.0   44.0\n",
      "16        8.0  192.0   85.0\n",
      "17        8.5  188.0   73.0\n",
      "18        9.0  195.0   80.0\n",
      "19        9.5  200.0   34.0\n",
      "20       10.0  183.0   42.0\n",
      "21       10.5  196.0   40.5\n",
      "22       11.0  157.0   18.0\n",
      "23       11.5  170.0   22.0\n",
      "24       12.0  176.0   42.0\n",
      "25       12.5  181.0   58.5\n",
      "26       13.0  177.0   36.0\n",
      "27       13.5  202.0   66.5\n",
      "28       14.0  216.0   48.0\n",
      "29       14.5    NaN   84.0\n",
      "..        ...    ...    ...\n",
      "71       35.5  185.0  132.0\n",
      "72       36.0    NaN    NaN\n",
      "73       36.5  187.0  138.0\n",
      "74       37.0  163.0  112.0\n",
      "75       37.5  150.0   94.0\n",
      "76       38.0  160.0  108.5\n",
      "77       38.5  161.0   92.0\n",
      "78       39.0  220.0  168.0\n",
      "79       39.5  174.0  117.5\n",
      "80       40.0  171.0   98.0\n",
      "81       40.5    NaN    NaN\n",
      "82       41.0  186.0  137.5\n",
      "83       41.5  163.0  114.0\n",
      "84       42.0  217.0  144.0\n",
      "85       42.5  247.0  201.0\n",
      "86       43.0  203.0  151.0\n",
      "87       43.5  271.0  220.0\n",
      "88       44.0  259.0  197.0\n",
      "89       44.5  205.0  157.0\n",
      "90       45.0  244.0  178.0\n",
      "91       45.5  198.0  133.0\n",
      "92       46.0  244.0  171.0\n",
      "93       46.5  254.0  217.0\n",
      "94       47.0  204.0  160.0\n",
      "95       47.5  208.0  144.5\n",
      "96       48.0  229.0  195.0\n",
      "97       48.5  244.0  192.5\n",
      "98       49.0    NaN    NaN\n",
      "99       49.5  195.0  143.5\n",
      "100      50.0  166.0  128.0\n",
      "\n",
      "[101 rows x 3 columns]\n"
     ]
    }
   ],
   "source": [
    "data= pd.read_csv('Mappe1.txt',sep=';',header=None)\n",
    "data.columns=['Distance','A1','A2']\n",
    "print(data)"
   ]
  },
  {
   "cell_type": "code",
   "execution_count": 7,
   "metadata": {},
   "outputs": [
    {
     "name": "stdout",
     "output_type": "stream",
     "text": [
      "0;130;206\n",
      "0.5;260;201\n",
      "1;253;172.5\n",
      "1.5;223;140\n",
      "2;211;51\n",
      "2.5;195;57\n",
      "3;221;93.5\n",
      "3.5;212;89.5\n",
      "4;163;42\n",
      "4.5;187;55.5\n",
      "5;216;86\n",
      "5.5;220;98.5\n",
      "6;224;92\n",
      "6.5;106;118\n",
      "7;173;40\n",
      "7.5;185;44\n",
      "8;192;85\n",
      "8.5;188;73\n",
      "9;195;80\n",
      "9.5;200;34\n",
      "10;183;42\n",
      "10.5;196;40.5\n",
      "11;157;18\n",
      "11.5;170;22\n",
      "12;176;42\n",
      "12.5;181;58.5\n",
      "13;177;36\n",
      "13.5;202;66.5\n",
      "14;216;48\n",
      "14.5;;84\n",
      "15;217;105\n",
      "15.5;223;126\n",
      "16;181;38\n",
      "16.5;231;53\n",
      "17;188;39\n",
      "17.5;241;177\n",
      "18;237;134\n",
      "18.5;248;149\n",
      "19;139;105\n",
      "19.5;165;44.5\n",
      "20;219;84.5\n",
      "20.5;221;79\n",
      "21;180;42\n",
      "21.5;213;100\n",
      "22;184;80\n",
      "22.5;222;117\n",
      "23;223;132\n",
      "23.5;247;156\n",
      "24;275;202\n",
      "24.5;241;165.5\n",
      "25;147;165.5\n",
      "25.5;194;119.5\n",
      "26;159;92\n",
      "26.5;159;92\n",
      "27;228;147\n",
      "27.5;103;182.5\n",
      "28;171;124\n",
      "28.5;116;64\n",
      "29;100;191.5\n",
      "29.5;222;174.5\n",
      "30;156;106\n",
      "30.5;209;178.5\n",
      "31;129;185.5\n",
      "31.5;186;130\n",
      "32;198;116.5\n",
      "32.5;229;182.5\n",
      "33;210;152\n",
      "33.5;207;161\n",
      "34;;\n",
      "34.5;177;139.5\n",
      "35;205;154\n",
      "35.5;185;132\n",
      "36;;\n",
      "36.5;187;138\n",
      "37;163;112\n",
      "37.5;150;94\n",
      "38;160;108.5\n",
      "38.5;161;92\n",
      "39;220;168\n",
      "39.5;174;117.5\n",
      "40;171;98\n",
      "40.5;;\n",
      "41;186;137.5\n",
      "41.5;163;114\n",
      "42;217;144\n",
      "42.5;247;201\n",
      "43;203;151\n",
      "43.5;271;220\n",
      "44;259;197\n",
      "44.5;205;157\n",
      "45;244;178\n",
      "45.5;198;133\n",
      "46;244;171\n",
      "46.5;254;217\n",
      "47;204;160\n",
      "47.5;208;144.5\n",
      "48;229;195\n",
      "48.5;244;192.5\n",
      "49;;\n",
      "49.5;195;143.5\n",
      "50;166;128\n"
     ]
    }
   ],
   "source": [
    "mapfil='Mappe1.txt'\n",
    "mapfile=open(mapfil,'r')\n",
    "mapf=mapfile.read()\n",
    "print(mapf)"
   ]
  },
  {
   "cell_type": "code",
   "execution_count": 23,
   "metadata": {},
   "outputs": [
    {
     "name": "stdout",
     "output_type": "stream",
     "text": [
      "         log        lat\n",
      "0   9.218383  74.501633\n",
      "1   9.215967  74.496750\n",
      "2   9.211650  74.491650\n",
      "3   9.209183  74.488683\n",
      "4   9.204833  74.483283\n",
      "5   9.202567  74.479717\n",
      "6   9.199467  74.475333\n",
      "7   9.196850  74.470550\n",
      "8   9.193183  74.466183\n",
      "9   9.189767  74.461733\n",
      "10  9.188767  74.457250\n",
      "11  9.183517  74.452733\n",
      "12  9.180450  74.447950\n",
      "13  9.204283  74.441867\n",
      "14  9.214683  74.438567\n",
      "15  9.237517  74.432500\n",
      "16  9.247767  74.429050\n",
      "17  9.259917  74.426067\n",
      "18  9.287117  74.418650\n",
      "19  9.298283  74.415433\n",
      "20  9.308983  74.411900\n",
      "21  9.331383  74.405583\n",
      "22  9.345683  74.402167\n",
      "23  9.355100  74.398883\n",
      "24  9.379483  74.392617\n",
      "25  9.390667  74.389233\n",
      "26  9.413467  74.382767\n",
      "27  9.426667  74.379217\n",
      "28  9.437467  74.375733\n",
      "29  0.000000   0.000000\n",
      "..       ...        ...\n",
      "68  0.000000   0.000000\n",
      "69  9.745550  74.189283\n",
      "70  9.745300  74.183417\n",
      "71  9.743883  74.179033\n",
      "72  0.000000   0.000000\n",
      "73  9.745233  74.174933\n",
      "74  9.743267  74.169833\n",
      "75  9.742167  74.164817\n",
      "76  9.742867  74.159767\n",
      "77  9.741300  74.153950\n",
      "78  9.740117  74.149283\n",
      "79  9.740883  74.144883\n",
      "80  9.740450  74.139683\n",
      "81  0.000000   0.000000\n",
      "82  9.739617  74.134100\n",
      "83  9.739150  74.130033\n",
      "84  9.739767  74.124900\n",
      "85  9.740283  74.119433\n",
      "86  9.741367  74.115200\n",
      "87  9.740983  74.111000\n",
      "88  9.741517  74.106183\n",
      "89  9.739750  74.101483\n",
      "90  9.737933  74.096667\n",
      "91  9.738717  74.091450\n",
      "92  9.737800  74.085983\n",
      "93  9.737233  74.081917\n",
      "94  9.736733  74.075550\n",
      "95  9.736617  74.070967\n",
      "96  9.736050  74.066217\n",
      "97  9.735733  74.061183\n",
      "\n",
      "[98 rows x 2 columns]\n"
     ]
    }
   ],
   "source": [
    "datfil=pd.read_csv('GPS.txt',sep='\\t', header=1)\n",
    "datfil.columns=(['log', 'lat'])\n",
    "print (datfil)"
   ]
  },
  {
   "cell_type": "code",
   "execution_count": 11,
   "metadata": {},
   "outputs": [
    {
     "name": "stdout",
     "output_type": "stream",
     "text": [
      "hello \t how are you \n",
      "i am fine\n"
     ]
    }
   ],
   "source": [
    "print('hello \\t how are you \\ni am fine')"
   ]
  },
  {
   "cell_type": "code",
   "execution_count": 32,
   "metadata": {},
   "outputs": [
    {
     "name": "stdout",
     "output_type": "stream",
     "text": [
      "       Distance from Kottas  Unnamed: 1 Height (2) 98/99  Unnamed: 3  \\\n",
      "590720                  NaN         NaN              NaN         NaN   \n",
      "590721                  NaN         NaN              NaN         NaN   \n",
      "590722                  NaN         NaN              NaN         NaN   \n",
      "590723                  NaN         NaN              NaN         NaN   \n",
      "590724                  NaN         NaN              NaN         NaN   \n",
      "\n",
      "       Height (2) 99/00  Unnamed: 5  Unnamed: 6  \n",
      "590720              NaN         NaN         NaN  \n",
      "590721              NaN         NaN         NaN  \n",
      "590722              NaN         NaN         NaN  \n",
      "590723              NaN         NaN         NaN  \n",
      "590724              NaN         NaN         NaN  \n"
     ]
    }
   ],
   "source": [
    "csmap='Mappe1.csv'\n",
    "rcsmap=pd.read_csv(csmap,skiprows =1)\n",
    "print(rcsmap.tail())"
   ]
  },
  {
   "cell_type": "code",
   "execution_count": 35,
   "metadata": {},
   "outputs": [
    {
     "name": "stdout",
     "output_type": "stream",
     "text": [
      "[['(km)' nan '[cm]' ... '[cm]' nan nan]\n",
      " ['0' nan '130' ... '206' nan nan]\n",
      " ['0.5' nan '260' ... '201' nan nan]\n",
      " ...\n",
      " [nan nan nan ... nan nan nan]\n",
      " [nan nan nan ... nan nan nan]\n",
      " [nan nan nan ... nan nan nan]]\n"
     ]
    }
   ],
   "source": [
    "data_arr=rcsmap.values\n",
    "print(data_arr) #coverting to array"
   ]
  },
  {
   "cell_type": "code",
   "execution_count": null,
   "metadata": {},
   "outputs": [],
   "source": []
  },
  {
   "cell_type": "code",
   "execution_count": 36,
   "metadata": {},
   "outputs": [
    {
     "name": "stdout",
     "output_type": "stream",
     "text": [
      "['1994', '1995']\n"
     ]
    }
   ],
   "source": [
    "xc='DAuV.xlsx'\n",
    "dxc=pd.ExcelFile(xc)\n",
    "print(dxc.sheet_names)"
   ]
  },
  {
   "cell_type": "code",
   "execution_count": 38,
   "metadata": {},
   "outputs": [
    {
     "name": "stdout",
     "output_type": "stream",
     "text": [
      "           area  mean_height  standart_deviation  median   period_s  \\\n",
      "0           NaN          NaN                 NaN     NaN        NaT   \n",
      "1     Pegelfeld          NaN                 NaN     NaN        NaT   \n",
      "2      km70/B30    60.452174           35.585021    57.0 1993-12-05   \n",
      "3  B30/100vWasa    63.153409           42.437131    57.5 1993-12-06   \n",
      "4       55vWasa    44.534483           20.953686    48.0 1993-12-06   \n",
      "\n",
      "    period_e  duration mean_density  accumulation  \n",
      "0        NaT       NaN       kg m^3  kg m^-2 a^-1  \n",
      "1        NaT       NaN          425           NaN  \n",
      "2 1994-12-20  1.041096          440        255.49  \n",
      "3 1994-12-20  1.038356          455       276.734  \n",
      "4 1994-12-21  1.041096          425         181.8  \n"
     ]
    }
   ],
   "source": [
    "dxc1=dxc.parse('1994')\n",
    "print(dxc1.head())"
   ]
  },
  {
   "cell_type": "code",
   "execution_count": 52,
   "metadata": {},
   "outputs": [
    {
     "name": "stdout",
     "output_type": "stream",
     "text": [
      "           area  mean_height  standart_deviation  median   period_s  \\\n",
      "0           NaN          NaN                 NaN     NaN        NaT   \n",
      "1     Pegelfeld          NaN                 NaN     NaN        NaT   \n",
      "2      km70/B30    74.548611           28.453970    68.0 1994-12-20   \n",
      "3  B30/100vWasa    69.072917           47.152630    61.5 1994-12-20   \n",
      "4       55vWasa    44.620690           19.603329    43.5 1994-12-21   \n",
      "\n",
      "    period_e  duration mean_density  accumulation  \n",
      "0        NaT       NaN       kg m^3  kg m^-2 a^-1  \n",
      "1 1996-02-16       NaN          425           NaN  \n",
      "2 1995-12-16  0.989041          440       331.648  \n",
      "3 1995-12-17  0.991781          455       316.886  \n",
      "4 1995-12-17  0.989041          425       191.739  \n"
     ]
    }
   ],
   "source": [
    "dxc11=dxc.parse(1)\n",
    "print(dxc11.head())"
   ]
  },
  {
   "cell_type": "code",
   "execution_count": 66,
   "metadata": {},
   "outputs": [
    {
     "name": "stdout",
     "output_type": "stream",
     "text": [
      "           Area     Height  Standart_Deviation  Median   Period_S   Period_E  \\\n",
      "0     Pegelfeld        NaN                 NaN     NaN        NaT        NaT   \n",
      "1      km70/B30  60.452174           35.585021    57.0 1993-12-05 1994-12-20   \n",
      "2  B30/100vWasa  63.153409           42.437131    57.5 1993-12-06 1994-12-20   \n",
      "3       55vWasa  44.534483           20.953686    48.0 1993-12-06 1994-12-21   \n",
      "4  Abzweig Wasa   6.925926           11.523405     5.0 1993-12-06 1994-12-22   \n",
      "\n",
      "   Duration  Density  Accumulation  \n",
      "0       NaN      425           NaN  \n",
      "1  1.041096      440    255.489977  \n",
      "2  1.038356      455    276.733573  \n",
      "3  1.041096      425    181.800306  \n",
      "4  1.043836      480     31.848352  \n"
     ]
    }
   ],
   "source": [
    "dxc1 = dxc.parse(0, skiprows=[0], names=['Area', 'Height','Standart_Deviation', 'Median','Period_S', 'Period_E', 'Duration','Density', 'Accumulation'])\n",
    "\n",
    "print(dxc1.head())"
   ]
  },
  {
   "cell_type": "code",
   "execution_count": 47,
   "metadata": {},
   "outputs": [
    {
     "name": "stdout",
     "output_type": "stream",
     "text": [
      "         Area11   Height11\n",
      "0     Pegelfeld        NaN\n",
      "1      km70/B30  60.452174\n",
      "2  B30/100vWasa  63.153409\n",
      "3       55vWasa  44.534483\n",
      "4  Abzweig Wasa   6.925926\n"
     ]
    }
   ],
   "source": [
    "dxc111 = dxc.parse(0, usecols=[0,1], skiprows=[0], names=['Area11', 'Height11'])\n",
    "\n",
    "print(dxc1.head())"
   ]
  },
  {
   "cell_type": "code",
   "execution_count": 48,
   "metadata": {},
   "outputs": [],
   "source": [
    "#df1.head() #shows you first 5 rows\n",
    "#df1.tail() #shows you last 5 rows\n",
    "#df1.shape # shows matrix, number of rows and columns\n",
    "#df1.info() # overview on data\n",
    "#df1.columns # lists the index column names\n",
    "#df1.describe() #lists basic statistics"
   ]
  },
  {
   "cell_type": "code",
   "execution_count": 67,
   "metadata": {},
   "outputs": [
    {
     "data": {
      "text/html": [
       "<div>\n",
       "<style scoped>\n",
       "    .dataframe tbody tr th:only-of-type {\n",
       "        vertical-align: middle;\n",
       "    }\n",
       "\n",
       "    .dataframe tbody tr th {\n",
       "        vertical-align: top;\n",
       "    }\n",
       "\n",
       "    .dataframe thead th {\n",
       "        text-align: right;\n",
       "    }\n",
       "</style>\n",
       "<table border=\"1\" class=\"dataframe\">\n",
       "  <thead>\n",
       "    <tr style=\"text-align: right;\">\n",
       "      <th></th>\n",
       "      <th>Height</th>\n",
       "      <th>Standart_Deviation</th>\n",
       "      <th>Median</th>\n",
       "      <th>Duration</th>\n",
       "      <th>Density</th>\n",
       "      <th>Accumulation</th>\n",
       "    </tr>\n",
       "  </thead>\n",
       "  <tbody>\n",
       "    <tr>\n",
       "      <th>count</th>\n",
       "      <td>8.000000</td>\n",
       "      <td>8.000000</td>\n",
       "      <td>8.000000</td>\n",
       "      <td>8.000000</td>\n",
       "      <td>9.000000</td>\n",
       "      <td>8.000000</td>\n",
       "    </tr>\n",
       "    <tr>\n",
       "      <th>mean</th>\n",
       "      <td>44.969282</td>\n",
       "      <td>23.072052</td>\n",
       "      <td>43.500000</td>\n",
       "      <td>1.041096</td>\n",
       "      <td>418.333333</td>\n",
       "      <td>177.084931</td>\n",
       "    </tr>\n",
       "    <tr>\n",
       "      <th>std</th>\n",
       "      <td>27.878533</td>\n",
       "      <td>12.138179</td>\n",
       "      <td>27.818288</td>\n",
       "      <td>0.001464</td>\n",
       "      <td>38.729833</td>\n",
       "      <td>106.357395</td>\n",
       "    </tr>\n",
       "    <tr>\n",
       "      <th>min</th>\n",
       "      <td>6.925926</td>\n",
       "      <td>10.118975</td>\n",
       "      <td>5.000000</td>\n",
       "      <td>1.038356</td>\n",
       "      <td>365.000000</td>\n",
       "      <td>31.848352</td>\n",
       "    </tr>\n",
       "    <tr>\n",
       "      <th>25%</th>\n",
       "      <td>24.291758</td>\n",
       "      <td>11.825671</td>\n",
       "      <td>24.125000</td>\n",
       "      <td>1.041096</td>\n",
       "      <td>385.000000</td>\n",
       "      <td>87.661006</td>\n",
       "    </tr>\n",
       "    <tr>\n",
       "      <th>50%</th>\n",
       "      <td>45.210991</td>\n",
       "      <td>20.921368</td>\n",
       "      <td>44.750000</td>\n",
       "      <td>1.041096</td>\n",
       "      <td>425.000000</td>\n",
       "      <td>175.746744</td>\n",
       "    </tr>\n",
       "    <tr>\n",
       "      <th>75%</th>\n",
       "      <td>61.127483</td>\n",
       "      <td>32.253296</td>\n",
       "      <td>57.125000</td>\n",
       "      <td>1.041096</td>\n",
       "      <td>440.000000</td>\n",
       "      <td>260.800876</td>\n",
       "    </tr>\n",
       "    <tr>\n",
       "      <th>max</th>\n",
       "      <td>93.812500</td>\n",
       "      <td>42.437131</td>\n",
       "      <td>94.500000</td>\n",
       "      <td>1.043836</td>\n",
       "      <td>480.000000</td>\n",
       "      <td>333.404688</td>\n",
       "    </tr>\n",
       "  </tbody>\n",
       "</table>\n",
       "</div>"
      ],
      "text/plain": [
       "          Height  Standart_Deviation     Median  Duration     Density  \\\n",
       "count   8.000000            8.000000   8.000000  8.000000    9.000000   \n",
       "mean   44.969282           23.072052  43.500000  1.041096  418.333333   \n",
       "std    27.878533           12.138179  27.818288  0.001464   38.729833   \n",
       "min     6.925926           10.118975   5.000000  1.038356  365.000000   \n",
       "25%    24.291758           11.825671  24.125000  1.041096  385.000000   \n",
       "50%    45.210991           20.921368  44.750000  1.041096  425.000000   \n",
       "75%    61.127483           32.253296  57.125000  1.041096  440.000000   \n",
       "max    93.812500           42.437131  94.500000  1.043836  480.000000   \n",
       "\n",
       "       Accumulation  \n",
       "count      8.000000  \n",
       "mean     177.084931  \n",
       "std      106.357395  \n",
       "min       31.848352  \n",
       "25%       87.661006  \n",
       "50%      175.746744  \n",
       "75%      260.800876  \n",
       "max      333.404688  "
      ]
     },
     "execution_count": 67,
     "metadata": {},
     "output_type": "execute_result"
    }
   ],
   "source": [
    "dxc1.describe() #lists basic statistics"
   ]
  },
  {
   "cell_type": "code",
   "execution_count": 69,
   "metadata": {},
   "outputs": [
    {
     "data": {
      "text/plain": [
       "count     8.000000\n",
       "mean     44.969282\n",
       "std      27.878533\n",
       "min       6.925926\n",
       "25%      24.291758\n",
       "50%      45.210991\n",
       "75%      61.127483\n",
       "max      93.812500\n",
       "Name: Height, dtype: float64"
      ]
     },
     "execution_count": 69,
     "metadata": {},
     "output_type": "execute_result"
    }
   ],
   "source": [
    "dxc1['Height'].describe()"
   ]
  },
  {
   "cell_type": "code",
   "execution_count": 70,
   "metadata": {},
   "outputs": [
    {
     "data": {
      "text/plain": [
       "26.07797926751039"
      ]
     },
     "execution_count": 70,
     "metadata": {},
     "output_type": "execute_result"
    }
   ],
   "source": [
    "\n",
    "np.std(dxc1['Height'])"
   ]
  },
  {
   "cell_type": "code",
   "execution_count": 72,
   "metadata": {},
   "outputs": [
    {
     "data": {
      "text/plain": [
       "<matplotlib.axes._subplots.AxesSubplot at 0x2480058ef98>"
      ]
     },
     "execution_count": 72,
     "metadata": {},
     "output_type": "execute_result"
    },
    {
     "data": {
      "image/png": "[encoded data removed]",
      "text/plain": [
       "<Figure size 432x288 with 1 Axes>"
      ]
     },
     "metadata": {
      "needs_background": "light"
     },
     "output_type": "display_data"
    }
   ],
   "source": [
    "dxc1['Height'].plot(kind = 'hist')\n",
    "#df1['Density'].plot(kind = 'hist')"
   ]
  },
  {
   "cell_type": "code",
   "execution_count": null,
   "metadata": {},
   "outputs": [],
   "source": []
  },
  {
   "cell_type": "code",
   "execution_count": 76,
   "metadata": {},
   "outputs": [
    {
     "data": {
      "text/plain": [
       "<matplotlib.axes._subplots.AxesSubplot at 0x24800b17f98>"
      ]
     },
     "execution_count": 76,
     "metadata": {},
     "output_type": "execute_result"
    },
    {
     "data": {
      "image/png": "[encoded data removed]",
      "text/plain": [
       "<Figure size 432x288 with 1 Axes>"
      ]
     },
     "metadata": {
      "needs_background": "light"
     },
     "output_type": "display_data"
    }
   ],
   "source": [
    "dxc1.boxplot(column='Accumulation')"
   ]
  },
  {
   "cell_type": "code",
   "execution_count": 75,
   "metadata": {},
   "outputs": [
    {
     "data": {
      "text/plain": [
       "<matplotlib.axes._subplots.AxesSubplot at 0x24802032048>"
      ]
     },
     "execution_count": 75,
     "metadata": {},
     "output_type": "execute_result"
    },
    {
     "data": {
      "image/png": "[encoded data removed]",
      "text/plain": [
       "<Figure size 432x288 with 1 Axes>"
      ]
     },
     "metadata": {
      "needs_background": "light"
     },
     "output_type": "display_data"
    }
   ],
   "source": [
    "dxc1.boxplot(column='Density', by ='Area')"
   ]
  },
  {
   "cell_type": "code",
   "execution_count": 80,
   "metadata": {},
   "outputs": [
    {
     "data": {
      "text/plain": [
       "<matplotlib.collections.PathCollection at 0x24800bbf940>"
      ]
     },
     "execution_count": 80,
     "metadata": {},
     "output_type": "execute_result"
    },
    {
     "data": {
      "image/png": "[encoded data removed]",
      "text/plain": [
       "<Figure size 432x288 with 1 Axes>"
      ]
     },
     "metadata": {
      "needs_background": "light"
     },
     "output_type": "display_data"
    }
   ],
   "source": [
    "x = dxc1['Accumulation']\n",
    "y = dxc1['Density']\n",
    "\n",
    "#x = dxc1['Accumulation']\n",
    "#y = dxc1['Height']\n",
    "\n",
    "plt.scatter(x,y)"
   ]
  },
  {
   "cell_type": "code",
   "execution_count": null,
   "metadata": {},
   "outputs": [],
   "source": []
  },
  {
   "cell_type": "code",
   "execution_count": 84,
   "metadata": {},
   "outputs": [
    {
     "name": "stdout",
     "output_type": "stream",
     "text": [
      "True\n"
     ]
    }
   ],
   "source": [
    "dff=pd.read_csv('Mappe1.csv')\n",
    "print(dff.isnull().values.any())"
   ]
  },
  {
   "cell_type": "code",
   "execution_count": 85,
   "metadata": {},
   "outputs": [
    {
     "name": "stdout",
     "output_type": "stream",
     "text": [
      "4134770\n"
     ]
    }
   ],
   "source": [
    "print(dff.isnull().sum().sum())"
   ]
  },
  {
   "cell_type": "code",
   "execution_count": 86,
   "metadata": {},
   "outputs": [
    {
     "name": "stdout",
     "output_type": "stream",
     "text": [
      "                  Unnamed: 0  Unnamed: 1        Unnamed: 2  Unnamed: 3  \\\n",
      "0       Distance from Kottas       222.0  Height (2) 98/99       222.0   \n",
      "1                       (km)       222.0              [cm]       222.0   \n",
      "2                          0       222.0               130       222.0   \n",
      "3                        0.5       222.0               260       222.0   \n",
      "4                          1       222.0               253       222.0   \n",
      "5                        1.5       222.0               223       222.0   \n",
      "6                          2       222.0               211       222.0   \n",
      "7                        2.5       222.0               195       222.0   \n",
      "8                          3       222.0               221       222.0   \n",
      "9                        3.5       222.0               212       222.0   \n",
      "10                         4       222.0               163       222.0   \n",
      "11                       4.5       222.0               187       222.0   \n",
      "12                         5       222.0               216       222.0   \n",
      "13                       5.5       222.0               220       222.0   \n",
      "14                         6       222.0               224       222.0   \n",
      "15                       6.5       222.0               106       222.0   \n",
      "16                         7       222.0               173       222.0   \n",
      "17                       7.5       222.0               185       222.0   \n",
      "18                         8       222.0               192       222.0   \n",
      "19                       8.5       222.0               188       222.0   \n",
      "20                         9       222.0               195       222.0   \n",
      "21                       9.5       222.0               200       222.0   \n",
      "22                        10       222.0               183       222.0   \n",
      "23                      10.5       222.0               196       222.0   \n",
      "24                        11       222.0               157       222.0   \n",
      "25                      11.5       222.0               170       222.0   \n",
      "26                        12       222.0               176       222.0   \n",
      "27                      12.5       222.0               181       222.0   \n",
      "28                        13       222.0               177       222.0   \n",
      "29                      13.5       222.0               202       222.0   \n",
      "...                      ...         ...               ...         ...   \n",
      "590696                   222       222.0               222       222.0   \n",
      "590697                   222       222.0               222       222.0   \n",
      "590698                   222       222.0               222       222.0   \n",
      "590699                   222       222.0               222       222.0   \n",
      "590700                   222       222.0               222       222.0   \n",
      "590701                   222       222.0               222       222.0   \n",
      "590702                   222       222.0               222       222.0   \n",
      "590703                   222       222.0               222       222.0   \n",
      "590704                   222       222.0               222       222.0   \n",
      "590705                   222       222.0               222       222.0   \n",
      "590706                   222       222.0               222       222.0   \n",
      "590707                   222       222.0               222       222.0   \n",
      "590708                   222       222.0               222       222.0   \n",
      "590709                   222       222.0               222       222.0   \n",
      "590710                   222       222.0               222       222.0   \n",
      "590711                   222       222.0               222       222.0   \n",
      "590712                   222       222.0               222       222.0   \n",
      "590713                   222       222.0               222       222.0   \n",
      "590714                   222       222.0               222       222.0   \n",
      "590715                   222       222.0               222       222.0   \n",
      "590716                   222       222.0               222       222.0   \n",
      "590717                   222       222.0               222       222.0   \n",
      "590718                   222       222.0               222       222.0   \n",
      "590719                   222       222.0               222       222.0   \n",
      "590720                   222       222.0               222       222.0   \n",
      "590721                   222       222.0               222       222.0   \n",
      "590722                   222       222.0               222       222.0   \n",
      "590723                   222       222.0               222       222.0   \n",
      "590724                   222       222.0               222       222.0   \n",
      "590725                   222       222.0               222       222.0   \n",
      "\n",
      "              Unnamed: 4  Unnamed: 5      0  \n",
      "0       Height (2) 99/00       222.0  222.0  \n",
      "1                   [cm]       222.0  222.0  \n",
      "2                    206       222.0  222.0  \n",
      "3                    201       222.0  222.0  \n",
      "4                  172.5       222.0  222.0  \n",
      "5                    140       222.0  222.0  \n",
      "6                     51       222.0  222.0  \n",
      "7                     57       222.0  222.0  \n",
      "8                   93.5       222.0  222.0  \n",
      "9                   89.5       222.0  222.0  \n",
      "10                    42       222.0  222.0  \n",
      "11                  55.5       222.0  222.0  \n",
      "12                    86       222.0  222.0  \n",
      "13                  98.5       222.0  222.0  \n",
      "14                    92       222.0  222.0  \n",
      "15                   130       222.0  222.0  \n",
      "16                   260       222.0  222.0  \n",
      "17                   253       222.0  222.0  \n",
      "18                   223       222.0  222.0  \n",
      "19                   211       222.0  222.0  \n",
      "20                   195       222.0  222.0  \n",
      "21                   221       222.0  222.0  \n",
      "22                   212       222.0  222.0  \n",
      "23                   163       222.0  222.0  \n",
      "24                   187       222.0  222.0  \n",
      "25                   216       222.0  222.0  \n",
      "26                   220       222.0  222.0  \n",
      "27                   224       222.0  222.0  \n",
      "28                   106       222.0  222.0  \n",
      "29                   173       222.0  222.0  \n",
      "...                  ...         ...    ...  \n",
      "590696               222       222.0  222.0  \n",
      "590697               222       222.0  222.0  \n",
      "590698               222       222.0  222.0  \n",
      "590699               222       222.0  222.0  \n",
      "590700               222       222.0  222.0  \n",
      "590701               222       222.0  222.0  \n",
      "590702               222       222.0  222.0  \n",
      "590703               222       222.0  222.0  \n",
      "590704               222       222.0  222.0  \n",
      "590705               222       222.0  222.0  \n",
      "590706               222       222.0  222.0  \n",
      "590707               222       222.0  222.0  \n",
      "590708               222       222.0  222.0  \n",
      "590709               222       222.0  222.0  \n",
      "590710               222       222.0  222.0  \n",
      "590711               222       222.0  222.0  \n",
      "590712               222       222.0  222.0  \n",
      "590713               222       222.0  222.0  \n",
      "590714               222       222.0  222.0  \n",
      "590715               222       222.0  222.0  \n",
      "590716               222       222.0  222.0  \n",
      "590717               222       222.0  222.0  \n",
      "590718               222       222.0  222.0  \n",
      "590719               222       222.0  222.0  \n",
      "590720               222       222.0  222.0  \n",
      "590721               222       222.0  222.0  \n",
      "590722               222       222.0  222.0  \n",
      "590723               222       222.0  222.0  \n",
      "590724               222       222.0  222.0  \n",
      "590725               222       222.0  222.0  \n",
      "\n",
      "[590726 rows x 7 columns]\n"
     ]
    }
   ],
   "source": [
    "dff.fillna(222, inplace=True)\n",
    "print(dff)"
   ]
  },
  {
   "cell_type": "code",
   "execution_count": 91,
   "metadata": {},
   "outputs": [
    {
     "data": {
      "text/html": [
       "<div>\n",
       "<style scoped>\n",
       "    .dataframe tbody tr th:only-of-type {\n",
       "        vertical-align: middle;\n",
       "    }\n",
       "\n",
       "    .dataframe tbody tr th {\n",
       "        vertical-align: top;\n",
       "    }\n",
       "\n",
       "    .dataframe thead th {\n",
       "        text-align: right;\n",
       "    }\n",
       "</style>\n",
       "<table border=\"1\" class=\"dataframe\">\n",
       "  <thead>\n",
       "    <tr style=\"text-align: right;\">\n",
       "      <th></th>\n",
       "      <th>Distance from Kottas</th>\n",
       "      <th>Unnamed: 1</th>\n",
       "      <th>Height (2) 98/99</th>\n",
       "      <th>Unnamed: 3</th>\n",
       "      <th>Height (2) 99/00</th>\n",
       "      <th>Unnamed: 5</th>\n",
       "      <th>Unnamed: 6</th>\n",
       "    </tr>\n",
       "  </thead>\n",
       "  <tbody>\n",
       "    <tr>\n",
       "      <th>0</th>\n",
       "      <td>(km)</td>\n",
       "      <td>NaN</td>\n",
       "      <td>NaN</td>\n",
       "      <td>NaN</td>\n",
       "      <td>NaN</td>\n",
       "      <td>NaN</td>\n",
       "      <td>NaN</td>\n",
       "    </tr>\n",
       "    <tr>\n",
       "      <th>1</th>\n",
       "      <td>0</td>\n",
       "      <td>NaN</td>\n",
       "      <td>130.0</td>\n",
       "      <td>NaN</td>\n",
       "      <td>206.0</td>\n",
       "      <td>NaN</td>\n",
       "      <td>NaN</td>\n",
       "    </tr>\n",
       "    <tr>\n",
       "      <th>2</th>\n",
       "      <td>0.5</td>\n",
       "      <td>NaN</td>\n",
       "      <td>260.0</td>\n",
       "      <td>NaN</td>\n",
       "      <td>201.0</td>\n",
       "      <td>NaN</td>\n",
       "      <td>NaN</td>\n",
       "    </tr>\n",
       "    <tr>\n",
       "      <th>3</th>\n",
       "      <td>1</td>\n",
       "      <td>NaN</td>\n",
       "      <td>253.0</td>\n",
       "      <td>NaN</td>\n",
       "      <td>172.5</td>\n",
       "      <td>NaN</td>\n",
       "      <td>NaN</td>\n",
       "    </tr>\n",
       "    <tr>\n",
       "      <th>4</th>\n",
       "      <td>1.5</td>\n",
       "      <td>NaN</td>\n",
       "      <td>223.0</td>\n",
       "      <td>NaN</td>\n",
       "      <td>140.0</td>\n",
       "      <td>NaN</td>\n",
       "      <td>NaN</td>\n",
       "    </tr>\n",
       "  </tbody>\n",
       "</table>\n",
       "</div>"
      ],
      "text/plain": [
       "  Distance from Kottas  Unnamed: 1  Height (2) 98/99  Unnamed: 3  \\\n",
       "0                 (km)         NaN               NaN         NaN   \n",
       "1                    0         NaN             130.0         NaN   \n",
       "2                  0.5         NaN             260.0         NaN   \n",
       "3                    1         NaN             253.0         NaN   \n",
       "4                  1.5         NaN             223.0         NaN   \n",
       "\n",
       "   Height (2) 99/00  Unnamed: 5  Unnamed: 6  \n",
       "0               NaN         NaN         NaN  \n",
       "1             206.0         NaN         NaN  \n",
       "2             201.0         NaN         NaN  \n",
       "3             172.5         NaN         NaN  \n",
       "4             140.0         NaN         NaN  "
      ]
     },
     "execution_count": 91,
     "metadata": {},
     "output_type": "execute_result"
    }
   ],
   "source": [
    "missing_values = [ \"n/a\", \"na\", \"[cm]\"]\n",
    "\n",
    "df = pd.read_csv('Mappe1.csv', skiprows = 1, na_values = missing_values)\n",
    "\n",
    "df.head()"
   ]
  },
  {
   "cell_type": "code",
   "execution_count": 89,
   "metadata": {},
   "outputs": [
    {
     "data": {
      "text/html": [
       "<div>\n",
       "<style scoped>\n",
       "    .dataframe tbody tr th:only-of-type {\n",
       "        vertical-align: middle;\n",
       "    }\n",
       "\n",
       "    .dataframe tbody tr th {\n",
       "        vertical-align: top;\n",
       "    }\n",
       "\n",
       "    .dataframe thead th {\n",
       "        text-align: right;\n",
       "    }\n",
       "</style>\n",
       "<table border=\"1\" class=\"dataframe\">\n",
       "  <thead>\n",
       "    <tr style=\"text-align: right;\">\n",
       "      <th></th>\n",
       "      <th>Distance from Kottas</th>\n",
       "      <th>Unnamed: 1</th>\n",
       "      <th>Height (2) 98/99</th>\n",
       "      <th>Unnamed: 3</th>\n",
       "      <th>Height (2) 99/00</th>\n",
       "      <th>Unnamed: 5</th>\n",
       "      <th>Unnamed: 6</th>\n",
       "    </tr>\n",
       "  </thead>\n",
       "  <tbody>\n",
       "    <tr>\n",
       "      <th>0</th>\n",
       "      <td>(km)</td>\n",
       "      <td>NaN</td>\n",
       "      <td>NaN</td>\n",
       "      <td>NaN</td>\n",
       "      <td>195.0</td>\n",
       "      <td>NaN</td>\n",
       "      <td>NaN</td>\n",
       "    </tr>\n",
       "    <tr>\n",
       "      <th>1</th>\n",
       "      <td>0</td>\n",
       "      <td>NaN</td>\n",
       "      <td>130.0</td>\n",
       "      <td>NaN</td>\n",
       "      <td>206.0</td>\n",
       "      <td>NaN</td>\n",
       "      <td>NaN</td>\n",
       "    </tr>\n",
       "    <tr>\n",
       "      <th>2</th>\n",
       "      <td>0.5</td>\n",
       "      <td>NaN</td>\n",
       "      <td>260.0</td>\n",
       "      <td>NaN</td>\n",
       "      <td>201.0</td>\n",
       "      <td>NaN</td>\n",
       "      <td>NaN</td>\n",
       "    </tr>\n",
       "    <tr>\n",
       "      <th>3</th>\n",
       "      <td>1</td>\n",
       "      <td>NaN</td>\n",
       "      <td>253.0</td>\n",
       "      <td>NaN</td>\n",
       "      <td>172.5</td>\n",
       "      <td>NaN</td>\n",
       "      <td>NaN</td>\n",
       "    </tr>\n",
       "    <tr>\n",
       "      <th>4</th>\n",
       "      <td>1.5</td>\n",
       "      <td>NaN</td>\n",
       "      <td>223.0</td>\n",
       "      <td>NaN</td>\n",
       "      <td>140.0</td>\n",
       "      <td>NaN</td>\n",
       "      <td>NaN</td>\n",
       "    </tr>\n",
       "  </tbody>\n",
       "</table>\n",
       "</div>"
      ],
      "text/plain": [
       "  Distance from Kottas  Unnamed: 1  Height (2) 98/99  Unnamed: 3  \\\n",
       "0                 (km)         NaN               NaN         NaN   \n",
       "1                    0         NaN             130.0         NaN   \n",
       "2                  0.5         NaN             260.0         NaN   \n",
       "3                    1         NaN             253.0         NaN   \n",
       "4                  1.5         NaN             223.0         NaN   \n",
       "\n",
       "   Height (2) 99/00  Unnamed: 5  Unnamed: 6  \n",
       "0             195.0         NaN         NaN  \n",
       "1             206.0         NaN         NaN  \n",
       "2             201.0         NaN         NaN  \n",
       "3             172.5         NaN         NaN  \n",
       "4             140.0         NaN         NaN  "
      ]
     },
     "execution_count": 89,
     "metadata": {},
     "output_type": "execute_result"
    }
   ],
   "source": [
    "# Replace na's using the median \n",
    "median = df['Height (2) 99/00'].median()\n",
    "df['Height (2) 99/00'].fillna(median, inplace=True)\n",
    "df.head()"
   ]
  },
  {
   "cell_type": "code",
   "execution_count": null,
   "metadata": {},
   "outputs": [],
   "source": []
  }
 ],
 "metadata": {
  "kernelspec": {
   "display_name": "Python 3",
   "language": "python",
   "name": "python3"
  },
  "language_info": {
   "codemirror_mode": {
    "name": "ipython",
    "version": 3
   },
   "file_extension": ".py",
   "mimetype": "text/x-python",
   "name": "python",
   "nbconvert_exporter": "python",
   "pygments_lexer": "ipython3",
   "version": "3.7.3"
  }
 },
 "nbformat": 4,
 "nbformat_minor": 2
}
