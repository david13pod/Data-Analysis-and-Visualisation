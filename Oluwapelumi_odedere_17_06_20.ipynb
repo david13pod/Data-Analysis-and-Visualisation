{
 "cells": [
  {
   "cell_type": "code",
   "execution_count": null,
   "metadata": {},
   "outputs": [],
   "source": [
    "import pandas as pd\n",
    "import numpy as np\n",
    "import matplotlib.pyplot as plt\n",
    "%matplotlib inline"
   ]
  },
  {
   "cell_type": "code",
   "execution_count": null,
   "metadata": {},
   "outputs": [],
   "source": [
    "file = \"C:\\\\Users\\\\user\\\\Desktop\\\\TUT\\\\Data VIs and Analysis\\\\oluwapelumi_odedere_data.csv\"\n",
    "\n",
    "data = pd.read_csv(file)\n",
    "#data"
   ]
  },
  {
   "cell_type": "code",
   "execution_count": null,
   "metadata": {},
   "outputs": [],
   "source": [
    "#data.dtypes"
   ]
  },
  {
   "cell_type": "code",
   "execution_count": null,
   "metadata": {},
   "outputs": [],
   "source": [
    "data['TDV 1'] = pd.to_datetime(data['TDV 1'])\n",
    "data['TDV 2'] = pd.to_datetime(data['TDV 2'])\n",
    "data['TDV 3'] = pd.to_datetime(data['TDV 3'])\n",
    "data['TDV 4'] = pd.to_datetime(data['TDV 4'])\n",
    "data['TDV 5'] = pd.to_datetime(data['TDV 5'])\n",
    "#data['TDV 5']"
   ]
  },
  {
   "cell_type": "code",
   "execution_count": null,
   "metadata": {},
   "outputs": [],
   "source": [
    "\n",
    "import seaborn as sns\n",
    "\n",
    "sns.set(rc={'figure.figsize':(16, 4)})"
   ]
  },
  {
   "cell_type": "markdown",
   "metadata": {},
   "source": [
    "__Line plot with one variable__"
   ]
  },
  {
   "cell_type": "code",
   "execution_count": null,
   "metadata": {},
   "outputs": [],
   "source": [
    "x= data['TDV 4']\n",
    "y= data['windSpeed']\n",
    "\n",
    "plt.plot(x,y)\n",
    "\n",
    "plt.xlabel('Time')\n",
    "plt.ylabel('Windspeed (m/s)')\n",
    "plt.title('Plot of Windspeed', fontsize=(17))\n",
    "plt.show()"
   ]
  },
  {
   "cell_type": "markdown",
   "metadata": {},
   "source": [
    "__Plot of one variable and running mean__"
   ]
  },
  {
   "cell_type": "code",
   "execution_count": null,
   "metadata": {},
   "outputs": [],
   "source": [
    "u= data['TDV 5']\n",
    "z= data['Mobility_driving']\n",
    "runmeanz= data['Mobility_driving'].rolling(2).mean()\n",
    "\n",
    "plt.plot(u,z,  marker='.', markersize=6, color='red',linestyle='None', label='Mobility_driving')\n",
    "plt.plot(u,runmeanz, color='lightblue',label='Moving average of Driving mobility')\n",
    "\n",
    "plt.xlabel('Time')\n",
    "plt.ylabel('Driving mobility')\n",
    "plt.title('Plot of Driving Mobility', fontsize=(17))\n",
    "plt.show()"
   ]
  },
  {
   "cell_type": "markdown",
   "metadata": {},
   "source": [
    "__Plot with 2 variables subplotted__"
   ]
  },
  {
   "cell_type": "code",
   "execution_count": null,
   "metadata": {},
   "outputs": [],
   "source": [
    "u= data['TDV 5']\n",
    "v=data['Mobility_Walking']\n",
    "runmeanv= data['Mobility_Walking'].rolling(3).mean()\n",
    "z= data['Mobility_driving']\n",
    "runmeanz= data['Mobility_driving'].rolling(3).mean()\n",
    "\n",
    "fig, (ax,ax1) = plt.subplots( 2, 1, sharex=True, figsize=(16,8))\n",
    "\n",
    "ax.plot(u, v, color='blue', marker='.', markersize=8, alpha=1, linestyle='None')\n",
    "ax.plot(u, runmeanv, color='lightblue')\n",
    "ax.set_title('Plot of Walking Mobility', fontsize=(14))\n",
    "ax.set_ylabel('Walking')\n",
    "\n",
    "#Second plot\n",
    "ax1.plot(x, z, color='red', marker='.', markersize=8, alpha=1, linestyle='None')\n",
    "ax1.plot(x, runmeanz, color='palevioletred')\n",
    "ax1.set_title('Plot of Driving Mobility', fontsize=(14))\n",
    "ax1.set_ylabel('Driving')\n",
    "ax1.set_xlabel('Time')\n"
   ]
  },
  {
   "cell_type": "markdown",
   "metadata": {},
   "source": [
    "__Plot with filled areas__"
   ]
  },
  {
   "cell_type": "code",
   "execution_count": null,
   "metadata": {},
   "outputs": [],
   "source": [
    "x=data['TDV 1']\n",
    "y1=data['temperatureMax']\n",
    "y2=data['temperatureMin']\n",
    "\n",
    "fig,ax =plt.subplots(figsize=(16,8))\n",
    "\n",
    "ax.plot(x, y1, x, y2, color='grey')\n",
    "ax.fill_between(x, y1, y2, where=y2 >= y1/2, facecolor='lightblue', interpolate=True)\n",
    "ax.fill_between(x, y1, y2, where=y2 <= y1/2, facecolor='red', interpolate=True)\n",
    "ax.set_title('Differences in Max and Min Temperature,', fontsize=(16))\n",
    "ax.set_ylabel('Temperature (degrees)')\n"
   ]
  },
  {
   "cell_type": "code",
   "execution_count": null,
   "metadata": {},
   "outputs": [],
   "source": []
  }
 ],
 "metadata": {
  "kernelspec": {
   "display_name": "Python 3",
   "language": "python",
   "name": "python3"
  },
  "language_info": {
   "codemirror_mode": {
    "name": "ipython",
    "version": 3
   },
   "file_extension": ".py",
   "mimetype": "text/x-python",
   "name": "python",
   "nbconvert_exporter": "python",
   "pygments_lexer": "ipython3",
   "version": "3.7.3"
  }
 },
 "nbformat": 4,
 "nbformat_minor": 2
}
