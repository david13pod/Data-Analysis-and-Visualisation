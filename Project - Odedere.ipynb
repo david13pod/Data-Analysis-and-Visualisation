{
 "cells": [
  {
   "cell_type": "markdown",
   "metadata": {},
   "source": [
    "\n",
    "\n",
    "\n"
   ]
  },
  {
   "cell_type": "markdown",
   "metadata": {},
   "source": [
    "\n",
    "# Data Analysis and Visualisation \n",
    "\n",
    "# Project"
   ]
  },
  {
   "cell_type": "code",
   "execution_count": null,
   "metadata": {},
   "outputs": [],
   "source": []
  },
  {
   "cell_type": "markdown",
   "metadata": {},
   "source": [
    "\n",
    "## Summer Semester 2020\n",
    "\n",
    "\n",
    "\n",
    "**24.07.2020**"
   ]
  },
  {
   "cell_type": "markdown",
   "metadata": {},
   "source": []
  },
  {
   "cell_type": "markdown",
   "metadata": {},
   "source": [
    "\n",
    "### Name: Odedere Oluwapelumi\n",
    "\n",
    "\n",
    "### Matric No: 3202465\n"
   ]
  },
  {
   "cell_type": "markdown",
   "metadata": {},
   "source": [
    "<p style='text-align: right;'> 1 </p>"
   ]
  },
  {
   "cell_type": "markdown",
   "metadata": {},
   "source": []
  },
  {
   "cell_type": "markdown",
   "metadata": {},
   "source": [
    "# Table of content"
   ]
  },
  {
   "cell_type": "markdown",
   "metadata": {},
   "source": []
  },
  {
   "cell_type": "markdown",
   "metadata": {},
   "source": [
    "### 1. **Introduction** \n",
    "   - Data Presentation\n",
    "   - Initilization\n",
    "   - DataFrame Overview\n",
    "        \n",
    "### 2. **Methodology**\n",
    "### 3. **Results**\n",
    "### 4. **Discussion**\n",
    "### 5. **References**"
   ]
  },
  {
   "cell_type": "markdown",
   "metadata": {},
   "source": []
  },
  {
   "cell_type": "markdown",
   "metadata": {},
   "source": [
    "<p style='text-align: right;'> 2 </p>"
   ]
  },
  {
   "cell_type": "markdown",
   "metadata": {},
   "source": []
  },
  {
   "cell_type": "markdown",
   "metadata": {},
   "source": [
    "### Introduction"
   ]
  },
  {
   "cell_type": "markdown",
   "metadata": {},
   "source": [
    "In light of the recent black live matter movement (BLM), I decided to take a look at fatal shooting by Police Officers in USA. The dataset used in this project was uploaded on Kaggele.com by Andriy Samoshin $^{1}$. The dataset was collated by a Police officer in USA and spans from 2015 to 2020. The dataset contains detais such as age, race, manner of death,date, gender etc.\n",
    "\n",
    "For the purpose of this course I will be taking a look at the first six months of 2015: analysing and visualising the information presented in the dataset in order to gain some insights to the fatal shooting and claimed Police brutality."
   ]
  },
  {
   "cell_type": "markdown",
   "metadata": {},
   "source": [
    "#### initialization"
   ]
  },
  {
   "cell_type": "code",
   "execution_count": 1,
   "metadata": {},
   "outputs": [],
   "source": [
    "#Importing the necessary libraries for running Analysis and Visualsation\n",
    "\n",
    "import pandas as pd\n",
    "import numpy as np\n",
    "import matplotlib.pyplot as plt\n",
    "%matplotlib inline\n",
    "import seaborn as sns\n",
    "sns.set(rc={'figure.figsize':(16, 4)})\n",
    "from scipy import stats"
   ]
  },
  {
   "cell_type": "code",
   "execution_count": 2,
   "metadata": {},
   "outputs": [
    {
     "data": {
      "text/plain": [
       "Index(['id', 'name', 'date', 'manner_of_death', 'armed', 'age', 'gender',\n",
       "       'race', 'city', 'state', 'signs_of_mental_illness', 'threat_level',\n",
       "       'flee', 'body_camera'],\n",
       "      dtype='object')"
      ]
     },
     "execution_count": 2,
     "metadata": {},
     "output_type": "execute_result"
    }
   ],
   "source": [
    "# Reading the file as a dataframe\n",
    "\n",
    "file = \"C:\\\\Users\\\\user\\\\Desktop\\\\TUT\\\\Data VIs and Analysis\\\\dataset.csv\"\n",
    "\n",
    "data = pd.read_csv(file)\n",
    "data.columns\n"
   ]
  },
  {
   "cell_type": "markdown",
   "metadata": {},
   "source": [
    "#### Overview"
   ]
  },
  {
   "cell_type": "markdown",
   "metadata": {},
   "source": [
    "A quick overview of the dataframe content which includes all columns for the first five rows and last five rows."
   ]
  },
  {
   "cell_type": "markdown",
   "metadata": {},
   "source": []
  },
  {
   "cell_type": "code",
   "execution_count": 6,
   "metadata": {},
   "outputs": [
    {
     "data": {
      "text/html": [
       "<div>\n",
       "<style scoped>\n",
       "    .dataframe tbody tr th:only-of-type {\n",
       "        vertical-align: middle;\n",
       "    }\n",
       "\n",
       "    .dataframe tbody tr th {\n",
       "        vertical-align: top;\n",
       "    }\n",
       "\n",
       "    .dataframe thead th {\n",
       "        text-align: right;\n",
       "    }\n",
       "</style>\n",
       "<table border=\"1\" class=\"dataframe\">\n",
       "  <thead>\n",
       "    <tr style=\"text-align: right;\">\n",
       "      <th></th>\n",
       "      <th>id</th>\n",
       "      <th>name</th>\n",
       "      <th>date</th>\n",
       "      <th>manner_of_death</th>\n",
       "      <th>armed</th>\n",
       "      <th>age</th>\n",
       "      <th>gender</th>\n",
       "      <th>race</th>\n",
       "      <th>city</th>\n",
       "      <th>state</th>\n",
       "      <th>signs_of_mental_illness</th>\n",
       "      <th>threat_level</th>\n",
       "      <th>flee</th>\n",
       "      <th>body_camera</th>\n",
       "    </tr>\n",
       "  </thead>\n",
       "  <tbody>\n",
       "    <tr>\n",
       "      <th>0</th>\n",
       "      <td>3</td>\n",
       "      <td>Tim Elliot</td>\n",
       "      <td>1/2/2015</td>\n",
       "      <td>shot</td>\n",
       "      <td>gun</td>\n",
       "      <td>53.0</td>\n",
       "      <td>M</td>\n",
       "      <td>A</td>\n",
       "      <td>Shelton</td>\n",
       "      <td>WA</td>\n",
       "      <td>True</td>\n",
       "      <td>attack</td>\n",
       "      <td>Not fleeing</td>\n",
       "      <td>False</td>\n",
       "    </tr>\n",
       "    <tr>\n",
       "      <th>1</th>\n",
       "      <td>4</td>\n",
       "      <td>Lewis Lee Lembke</td>\n",
       "      <td>1/2/2015</td>\n",
       "      <td>shot</td>\n",
       "      <td>gun</td>\n",
       "      <td>47.0</td>\n",
       "      <td>M</td>\n",
       "      <td>W</td>\n",
       "      <td>Aloha</td>\n",
       "      <td>OR</td>\n",
       "      <td>False</td>\n",
       "      <td>attack</td>\n",
       "      <td>Not fleeing</td>\n",
       "      <td>False</td>\n",
       "    </tr>\n",
       "    <tr>\n",
       "      <th>2</th>\n",
       "      <td>5</td>\n",
       "      <td>John Paul Quintero</td>\n",
       "      <td>1/3/2015</td>\n",
       "      <td>shot and Tasered</td>\n",
       "      <td>unarmed</td>\n",
       "      <td>23.0</td>\n",
       "      <td>M</td>\n",
       "      <td>H</td>\n",
       "      <td>Wichita</td>\n",
       "      <td>KS</td>\n",
       "      <td>False</td>\n",
       "      <td>other</td>\n",
       "      <td>Not fleeing</td>\n",
       "      <td>False</td>\n",
       "    </tr>\n",
       "    <tr>\n",
       "      <th>3</th>\n",
       "      <td>8</td>\n",
       "      <td>Matthew Hoffman</td>\n",
       "      <td>1/4/2015</td>\n",
       "      <td>shot</td>\n",
       "      <td>toy weapon</td>\n",
       "      <td>32.0</td>\n",
       "      <td>M</td>\n",
       "      <td>W</td>\n",
       "      <td>San Francisco</td>\n",
       "      <td>CA</td>\n",
       "      <td>True</td>\n",
       "      <td>attack</td>\n",
       "      <td>Not fleeing</td>\n",
       "      <td>False</td>\n",
       "    </tr>\n",
       "    <tr>\n",
       "      <th>4</th>\n",
       "      <td>9</td>\n",
       "      <td>Michael Rodriguez</td>\n",
       "      <td>1/4/2015</td>\n",
       "      <td>shot</td>\n",
       "      <td>nail gun</td>\n",
       "      <td>39.0</td>\n",
       "      <td>M</td>\n",
       "      <td>H</td>\n",
       "      <td>Evans</td>\n",
       "      <td>CO</td>\n",
       "      <td>False</td>\n",
       "      <td>attack</td>\n",
       "      <td>Not fleeing</td>\n",
       "      <td>False</td>\n",
       "    </tr>\n",
       "  </tbody>\n",
       "</table>\n",
       "</div>"
      ],
      "text/plain": [
       "   id                name      date   manner_of_death       armed   age  \\\n",
       "0   3          Tim Elliot  1/2/2015              shot         gun  53.0   \n",
       "1   4    Lewis Lee Lembke  1/2/2015              shot         gun  47.0   \n",
       "2   5  John Paul Quintero  1/3/2015  shot and Tasered     unarmed  23.0   \n",
       "3   8     Matthew Hoffman  1/4/2015              shot  toy weapon  32.0   \n",
       "4   9   Michael Rodriguez  1/4/2015              shot    nail gun  39.0   \n",
       "\n",
       "  gender race           city state  signs_of_mental_illness threat_level  \\\n",
       "0      M    A        Shelton    WA                     True       attack   \n",
       "1      M    W          Aloha    OR                    False       attack   \n",
       "2      M    H        Wichita    KS                    False        other   \n",
       "3      M    W  San Francisco    CA                     True       attack   \n",
       "4      M    H          Evans    CO                    False       attack   \n",
       "\n",
       "          flee  body_camera  \n",
       "0  Not fleeing        False  \n",
       "1  Not fleeing        False  \n",
       "2  Not fleeing        False  \n",
       "3  Not fleeing        False  \n",
       "4  Not fleeing        False  "
      ]
     },
     "execution_count": 6,
     "metadata": {},
     "output_type": "execute_result"
    }
   ],
   "source": [
    "data.head()"
   ]
  },
  {
   "cell_type": "code",
   "execution_count": 7,
   "metadata": {},
   "outputs": [
    {
     "data": {
      "text/html": [
       "<div>\n",
       "<style scoped>\n",
       "    .dataframe tbody tr th:only-of-type {\n",
       "        vertical-align: middle;\n",
       "    }\n",
       "\n",
       "    .dataframe tbody tr th {\n",
       "        vertical-align: top;\n",
       "    }\n",
       "\n",
       "    .dataframe thead th {\n",
       "        text-align: right;\n",
       "    }\n",
       "</style>\n",
       "<table border=\"1\" class=\"dataframe\">\n",
       "  <thead>\n",
       "    <tr style=\"text-align: right;\">\n",
       "      <th></th>\n",
       "      <th>id</th>\n",
       "      <th>name</th>\n",
       "      <th>date</th>\n",
       "      <th>manner_of_death</th>\n",
       "      <th>armed</th>\n",
       "      <th>age</th>\n",
       "      <th>gender</th>\n",
       "      <th>race</th>\n",
       "      <th>city</th>\n",
       "      <th>state</th>\n",
       "      <th>signs_of_mental_illness</th>\n",
       "      <th>threat_level</th>\n",
       "      <th>flee</th>\n",
       "      <th>body_camera</th>\n",
       "    </tr>\n",
       "  </thead>\n",
       "  <tbody>\n",
       "    <tr>\n",
       "      <th>460</th>\n",
       "      <td>583</td>\n",
       "      <td>Joe Angel Cisneros</td>\n",
       "      <td>6/26/2015</td>\n",
       "      <td>shot</td>\n",
       "      <td>gun</td>\n",
       "      <td>28.0</td>\n",
       "      <td>M</td>\n",
       "      <td>H</td>\n",
       "      <td>San Antonio</td>\n",
       "      <td>TX</td>\n",
       "      <td>False</td>\n",
       "      <td>other</td>\n",
       "      <td>Foot</td>\n",
       "      <td>False</td>\n",
       "    </tr>\n",
       "    <tr>\n",
       "      <th>461</th>\n",
       "      <td>580</td>\n",
       "      <td>Joshua Crittenden</td>\n",
       "      <td>6/27/2015</td>\n",
       "      <td>shot</td>\n",
       "      <td>gun</td>\n",
       "      <td>35.0</td>\n",
       "      <td>M</td>\n",
       "      <td>W</td>\n",
       "      <td>Tahlequah</td>\n",
       "      <td>OK</td>\n",
       "      <td>False</td>\n",
       "      <td>attack</td>\n",
       "      <td>Not fleeing</td>\n",
       "      <td>True</td>\n",
       "    </tr>\n",
       "    <tr>\n",
       "      <th>462</th>\n",
       "      <td>577</td>\n",
       "      <td>Alan  Bellew</td>\n",
       "      <td>6/28/2015</td>\n",
       "      <td>shot</td>\n",
       "      <td>toy weapon</td>\n",
       "      <td>29.0</td>\n",
       "      <td>M</td>\n",
       "      <td>W</td>\n",
       "      <td>Portland</td>\n",
       "      <td>OR</td>\n",
       "      <td>False</td>\n",
       "      <td>attack</td>\n",
       "      <td>Not fleeing</td>\n",
       "      <td>False</td>\n",
       "    </tr>\n",
       "    <tr>\n",
       "      <th>463</th>\n",
       "      <td>585</td>\n",
       "      <td>Richard LaPort</td>\n",
       "      <td>6/29/2015</td>\n",
       "      <td>shot</td>\n",
       "      <td>gun</td>\n",
       "      <td>51.0</td>\n",
       "      <td>M</td>\n",
       "      <td>W</td>\n",
       "      <td>Edinburg</td>\n",
       "      <td>NY</td>\n",
       "      <td>True</td>\n",
       "      <td>attack</td>\n",
       "      <td>Not fleeing</td>\n",
       "      <td>False</td>\n",
       "    </tr>\n",
       "    <tr>\n",
       "      <th>464</th>\n",
       "      <td>586</td>\n",
       "      <td>Clay Alan  Lickteig</td>\n",
       "      <td>6/30/2015</td>\n",
       "      <td>shot</td>\n",
       "      <td>gun</td>\n",
       "      <td>52.0</td>\n",
       "      <td>M</td>\n",
       "      <td>W</td>\n",
       "      <td>Franklin</td>\n",
       "      <td>NC</td>\n",
       "      <td>False</td>\n",
       "      <td>attack</td>\n",
       "      <td>Not fleeing</td>\n",
       "      <td>False</td>\n",
       "    </tr>\n",
       "  </tbody>\n",
       "</table>\n",
       "</div>"
      ],
      "text/plain": [
       "      id                 name       date manner_of_death       armed   age  \\\n",
       "460  583   Joe Angel Cisneros  6/26/2015            shot         gun  28.0   \n",
       "461  580    Joshua Crittenden  6/27/2015            shot         gun  35.0   \n",
       "462  577         Alan  Bellew  6/28/2015            shot  toy weapon  29.0   \n",
       "463  585       Richard LaPort  6/29/2015            shot         gun  51.0   \n",
       "464  586  Clay Alan  Lickteig  6/30/2015            shot         gun  52.0   \n",
       "\n",
       "    gender race         city state  signs_of_mental_illness threat_level  \\\n",
       "460      M    H  San Antonio    TX                    False        other   \n",
       "461      M    W    Tahlequah    OK                    False       attack   \n",
       "462      M    W     Portland    OR                    False       attack   \n",
       "463      M    W     Edinburg    NY                     True       attack   \n",
       "464      M    W     Franklin    NC                    False       attack   \n",
       "\n",
       "            flee  body_camera  \n",
       "460         Foot        False  \n",
       "461  Not fleeing         True  \n",
       "462  Not fleeing        False  \n",
       "463  Not fleeing        False  \n",
       "464  Not fleeing        False  "
      ]
     },
     "execution_count": 7,
     "metadata": {},
     "output_type": "execute_result"
    }
   ],
   "source": [
    "data.tail()"
   ]
  },
  {
   "cell_type": "markdown",
   "metadata": {},
   "source": []
  },
  {
   "cell_type": "markdown",
   "metadata": {},
   "source": [
    "<p style='text-align: right;'> 2 </p>"
   ]
  },
  {
   "cell_type": "markdown",
   "metadata": {},
   "source": []
  },
  {
   "cell_type": "markdown",
   "metadata": {},
   "source": [
    "### Methodology\n"
   ]
  },
  {
   "cell_type": "markdown",
   "metadata": {},
   "source": []
  },
  {
   "cell_type": "markdown",
   "metadata": {},
   "source": [
    "In this analysis a few statistical methods are used on the age and gender variables in the dataset. Statistical methods used are:\n",
    "- Mean: The average of values specified or the sum of the values divided by the number of values.\n",
    "- Max: Maximum value of a column\n",
    "- Min: Minimun value of a column\n",
    "- Mode: Most common value in a column\n",
    "- Frequency Density: Percentage of each unique values\n",
    "- length: Counts according to the condition specified "
   ]
  },
  {
   "cell_type": "markdown",
   "metadata": {},
   "source": []
  },
  {
   "cell_type": "code",
   "execution_count": 31,
   "metadata": {},
   "outputs": [
    {
     "data": {
      "text/plain": [
       "1"
      ]
     },
     "execution_count": 31,
     "metadata": {},
     "output_type": "execute_result"
    }
   ],
   "source": [
    "#converting the age column to numeric data  type\n",
    "data['age'] = pd.to_numeric(data['age'])\n",
    "data['age'].isnull().sum()"
   ]
  },
  {
   "cell_type": "code",
   "execution_count": 9,
   "metadata": {},
   "outputs": [
    {
     "data": {
      "text/plain": [
       "86.0"
      ]
     },
     "execution_count": 9,
     "metadata": {},
     "output_type": "execute_result"
    }
   ],
   "source": [
    "#Maximum\n",
    "max(data['age'])"
   ]
  },
  {
   "cell_type": "code",
   "execution_count": 11,
   "metadata": {},
   "outputs": [
    {
     "data": {
      "text/plain": [
       "15.0"
      ]
     },
     "execution_count": 11,
     "metadata": {},
     "output_type": "execute_result"
    }
   ],
   "source": [
    "#Minimum\n",
    "min(data['age'])"
   ]
  },
  {
   "cell_type": "code",
   "execution_count": 10,
   "metadata": {},
   "outputs": [
    {
     "data": {
      "text/plain": [
       "37.15301724137931"
      ]
     },
     "execution_count": 10,
     "metadata": {},
     "output_type": "execute_result"
    }
   ],
   "source": [
    "#Mean\n",
    "data['age'].mean()"
   ]
  },
  {
   "cell_type": "code",
   "execution_count": 12,
   "metadata": {},
   "outputs": [
    {
     "data": {
      "text/plain": [
       "0    28.0\n",
       "1    31.0\n",
       "2    36.0\n",
       "dtype: float64"
      ]
     },
     "execution_count": 12,
     "metadata": {},
     "output_type": "execute_result"
    }
   ],
   "source": [
    "#Mode\n",
    "data['age'].mode()"
   ]
  },
  {
   "cell_type": "code",
   "execution_count": 20,
   "metadata": {},
   "outputs": [
    {
     "data": {
      "text/plain": [
       "28.0    18\n",
       "36.0    18\n",
       "31.0    18\n",
       "Name: age, dtype: int64"
      ]
     },
     "execution_count": 20,
     "metadata": {},
     "output_type": "execute_result"
    }
   ],
   "source": [
    "#Count of most occuring\n",
    "data['age'].value_counts().head(3)"
   ]
  },
  {
   "cell_type": "code",
   "execution_count": 21,
   "metadata": {},
   "outputs": [
    {
     "data": {
      "text/plain": [
       "11"
      ]
     },
     "execution_count": 21,
     "metadata": {},
     "output_type": "execute_result"
    }
   ],
   "source": [
    "#count of cases with ages below 18 years\n",
    "agebrac = data['age']\n",
    "threshold = agebrac < 18\n",
    "\n",
    "len(agebrac[threshold])\n"
   ]
  },
  {
   "cell_type": "code",
   "execution_count": null,
   "metadata": {},
   "outputs": [],
   "source": []
  },
  {
   "cell_type": "markdown",
   "metadata": {},
   "source": []
  },
  {
   "cell_type": "code",
   "execution_count": 24,
   "metadata": {},
   "outputs": [
    {
     "name": "stderr",
     "output_type": "stream",
     "text": [
      "C:\\Users\\user\\Anaconda31111\\lib\\site-packages\\ipykernel_launcher.py:2: DeprecationWarning: `itemfreq` is deprecated!\n",
      "`itemfreq` is deprecated and will be removed in a future version. Use instead `np.unique(..., return_counts=True)`\n",
      "  \n"
     ]
    }
   ],
   "source": [
    "# Calculating the frequency of individual density values\n",
    "freq_density = stats.itemfreq(data[\"gender\"])\n",
    "# Calculations on frequency are transformed to DataFrame(df1)\n",
    "datbar = pd.DataFrame(freq_density, columns=['gender', 'Frequency'])\n",
    "F = datbar['Frequency'].iloc[0:2]\n",
    "# Calculating percentage distribution (902 = number of rows)\n",
    "Frequency_Density = F *100/465"
   ]
  },
  {
   "cell_type": "code",
   "execution_count": 25,
   "metadata": {},
   "outputs": [
    {
     "data": {
      "text/html": [
       "<div>\n",
       "<style scoped>\n",
       "    .dataframe tbody tr th:only-of-type {\n",
       "        vertical-align: middle;\n",
       "    }\n",
       "\n",
       "    .dataframe tbody tr th {\n",
       "        vertical-align: top;\n",
       "    }\n",
       "\n",
       "    .dataframe thead th {\n",
       "        text-align: right;\n",
       "    }\n",
       "</style>\n",
       "<table border=\"1\" class=\"dataframe\">\n",
       "  <thead>\n",
       "    <tr style=\"text-align: right;\">\n",
       "      <th></th>\n",
       "      <th>gender</th>\n",
       "      <th>Frequency</th>\n",
       "    </tr>\n",
       "  </thead>\n",
       "  <tbody>\n",
       "    <tr>\n",
       "      <th>0</th>\n",
       "      <td>F</td>\n",
       "      <td>23</td>\n",
       "    </tr>\n",
       "    <tr>\n",
       "      <th>1</th>\n",
       "      <td>M</td>\n",
       "      <td>442</td>\n",
       "    </tr>\n",
       "  </tbody>\n",
       "</table>\n",
       "</div>"
      ],
      "text/plain": [
       "  gender Frequency\n",
       "0      F        23\n",
       "1      M       442"
      ]
     },
     "execution_count": 25,
     "metadata": {},
     "output_type": "execute_result"
    }
   ],
   "source": [
    "datbar"
   ]
  },
  {
   "cell_type": "code",
   "execution_count": 26,
   "metadata": {},
   "outputs": [
    {
     "data": {
      "text/plain": [
       "0    4.94624\n",
       "1    95.0538\n",
       "Name: Frequency, dtype: object"
      ]
     },
     "execution_count": 26,
     "metadata": {},
     "output_type": "execute_result"
    }
   ],
   "source": [
    "Frequency_Density"
   ]
  },
  {
   "cell_type": "markdown",
   "metadata": {},
   "source": []
  },
  {
   "cell_type": "markdown",
   "metadata": {},
   "source": []
  },
  {
   "cell_type": "code",
   "execution_count": 61,
   "metadata": {},
   "outputs": [
    {
     "data": {
      "image/png": "[encoded data removed]",
      "text/plain": [
       "<Figure size 432x288 with 1 Axes>"
      ]
     },
     "metadata": {
      "needs_background": "light"
     },
     "output_type": "display_data"
    }
   ],
   "source": [
    "gend = datbar[\"gender\"]  \n",
    "Freq = datbar[\"Frequency\"]  \n",
    "\n",
    "#plt.bar(gend, Freq)\n",
    "labels=['Female','male']\n",
    "ax=sns.barplot(data=datbar, x = gend, y = Freq,hue='Frequency' )\n",
    "# Easily change the labels\n",
    "plt.xlabel('Gender')  \n",
    "plt.ylabel('Frequency')\n",
    "plt.title(\"Gender distribution\")\n",
    "\n",
    "h, l = ax.get_legend_handles_labels()\n",
    "ax.legend(h, labels,)\n",
    "plt.show() "
   ]
  },
  {
   "cell_type": "code",
   "execution_count": null,
   "metadata": {},
   "outputs": [],
   "source": []
  },
  {
   "cell_type": "code",
   "execution_count": 47,
   "metadata": {},
   "outputs": [
    {
     "data": {
      "text/plain": [
       "CA    76\n",
       "TX    51\n",
       "FL    28\n",
       "AZ    26\n",
       "OK    19\n",
       "Name: state, dtype: int64"
      ]
     },
     "execution_count": 47,
     "metadata": {},
     "output_type": "execute_result"
    }
   ],
   "source": [
    "#States with the highest number of fatal shooting\n",
    "state_count=data['state'].value_counts()\n",
    "state_count.head()"
   ]
  },
  {
   "cell_type": "code",
   "execution_count": 46,
   "metadata": {},
   "outputs": [
    {
     "data": {
      "text/plain": [
       "HI    1\n",
       "AK    1\n",
       "ME    1\n",
       "ND    1\n",
       "DC    1\n",
       "Name: state, dtype: int64"
      ]
     },
     "execution_count": 46,
     "metadata": {},
     "output_type": "execute_result"
    }
   ],
   "source": [
    "state_count.tail()"
   ]
  },
  {
   "cell_type": "code",
   "execution_count": null,
   "metadata": {},
   "outputs": [],
   "source": []
  },
  {
   "cell_type": "code",
   "execution_count": 63,
   "metadata": {},
   "outputs": [],
   "source": [
    "#converting the date column to a datetime series and extracting only the monnth\n",
    "\n",
    "data['date'] = pd.to_datetime(data['date'])\n",
    "from datetime import datetime as dt\n",
    "data['month'] =data['date'].dt.strftime(\"%b\")"
   ]
  },
  {
   "cell_type": "code",
   "execution_count": 64,
   "metadata": {},
   "outputs": [
    {
     "name": "stderr",
     "output_type": "stream",
     "text": [
      "C:\\Users\\user\\Anaconda31111\\lib\\site-packages\\ipykernel_launcher.py:2: DeprecationWarning: `itemfreq` is deprecated!\n",
      "`itemfreq` is deprecated and will be removed in a future version. Use instead `np.unique(..., return_counts=True)`\n",
      "  \n"
     ]
    },
    {
     "data": {
      "text/html": [
       "<div>\n",
       "<style scoped>\n",
       "    .dataframe tbody tr th:only-of-type {\n",
       "        vertical-align: middle;\n",
       "    }\n",
       "\n",
       "    .dataframe tbody tr th {\n",
       "        vertical-align: top;\n",
       "    }\n",
       "\n",
       "    .dataframe thead th {\n",
       "        text-align: right;\n",
       "    }\n",
       "</style>\n",
       "<table border=\"1\" class=\"dataframe\">\n",
       "  <thead>\n",
       "    <tr style=\"text-align: right;\">\n",
       "      <th></th>\n",
       "      <th>Month</th>\n",
       "      <th>Number of cases</th>\n",
       "      <th>sorte</th>\n",
       "    </tr>\n",
       "  </thead>\n",
       "  <tbody>\n",
       "    <tr>\n",
       "      <th>2</th>\n",
       "      <td>Jan</td>\n",
       "      <td>76</td>\n",
       "      <td>1</td>\n",
       "    </tr>\n",
       "    <tr>\n",
       "      <th>1</th>\n",
       "      <td>Feb</td>\n",
       "      <td>77</td>\n",
       "      <td>2</td>\n",
       "    </tr>\n",
       "    <tr>\n",
       "      <th>4</th>\n",
       "      <td>Mar</td>\n",
       "      <td>92</td>\n",
       "      <td>3</td>\n",
       "    </tr>\n",
       "    <tr>\n",
       "      <th>0</th>\n",
       "      <td>Apr</td>\n",
       "      <td>84</td>\n",
       "      <td>4</td>\n",
       "    </tr>\n",
       "    <tr>\n",
       "      <th>5</th>\n",
       "      <td>May</td>\n",
       "      <td>71</td>\n",
       "      <td>5</td>\n",
       "    </tr>\n",
       "    <tr>\n",
       "      <th>3</th>\n",
       "      <td>Jun</td>\n",
       "      <td>65</td>\n",
       "      <td>6</td>\n",
       "    </tr>\n",
       "  </tbody>\n",
       "</table>\n",
       "</div>"
      ],
      "text/plain": [
       "  Month Number of cases  sorte\n",
       "2   Jan              76      1\n",
       "1   Feb              77      2\n",
       "4   Mar              92      3\n",
       "0   Apr              84      4\n",
       "5   May              71      5\n",
       "3   Jun              65      6"
      ]
     },
     "execution_count": 64,
     "metadata": {},
     "output_type": "execute_result"
    }
   ],
   "source": [
    "# Calculating the frequency of individual month\n",
    "freq_cases = stats.itemfreq(data[\"month\"])\n",
    "\n",
    "datbar2 = pd.DataFrame(freq_cases, columns=['Month', 'Number of cases'])\n",
    "\n",
    "F = datbar2['Number of cases'].iloc[0:8]\n",
    "Frequency_Density = F *100/465\n",
    "\n",
    "#Sorting the month in ascending order\n",
    "datbar2[\"sorte\"]=[4,2,1,6,3,5]\n",
    "datbar2=datbar2.sort_values(by=\"sorte\",ascending=True)\n",
    "datbar2"
   ]
  },
  {
   "cell_type": "code",
   "execution_count": 67,
   "metadata": {},
   "outputs": [
    {
     "data": {
      "text/plain": [
       "8.69386757049665"
      ]
     },
     "execution_count": 67,
     "metadata": {},
     "output_type": "execute_result"
    }
   ],
   "source": [
    "#Standard deviation of Number of cases per month\n",
    "np.std(datbar2['Number of cases'])"
   ]
  },
  {
   "cell_type": "code",
   "execution_count": 68,
   "metadata": {},
   "outputs": [
    {
     "data": {
      "image/png": "[encoded data removed]",
      "text/plain": [
       "<Figure size 432x288 with 1 Axes>"
      ]
     },
     "metadata": {
      "needs_background": "light"
     },
     "output_type": "display_data"
    }
   ],
   "source": [
    "#Number of cases per month\n",
    "\n",
    "months = datbar2[\"Month\"]  \n",
    "N_Freq = datbar2[\"Number of cases\"]  \n",
    "\n",
    "sns.barplot(x=months, y=N_Freq)\n",
    "\n",
    "# Easily change the labels\n",
    "plt.xlabel('Month')  \n",
    "plt.ylabel('Cases')\n",
    "plt.title(\"Cases per Month\")\n",
    "plt.show()"
   ]
  },
  {
   "cell_type": "code",
   "execution_count": null,
   "metadata": {},
   "outputs": [],
   "source": []
  },
  {
   "cell_type": "markdown",
   "metadata": {},
   "source": [
    "### Results"
   ]
  },
  {
   "cell_type": "markdown",
   "metadata": {},
   "source": []
  },
  {
   "cell_type": "markdown",
   "metadata": {},
   "source": [
    "It is seen that from January to June 2015, the minimum age of the person involved in a fatal shooting is 15 years, while the oldest person is 86 years. The average age is 37 years, but the most common ages of people involved are **28,31,36** years with **18 occurences** each. Of the 465 cases, 11 of them are below 18 years of age. Graphical representation is shown below"
   ]
  },
  {
   "cell_type": "code",
   "execution_count": 66,
   "metadata": {},
   "outputs": [
    {
     "data": {
      "text/plain": [
       "Text(0.5, 1.0, 'Age histogram')"
      ]
     },
     "execution_count": 66,
     "metadata": {},
     "output_type": "execute_result"
    },
    {
     "data": {
      "image/png": "[encoded data removed]",
      "text/plain": [
       "<Figure size 432x288 with 1 Axes>"
      ]
     },
     "metadata": {
      "needs_background": "light"
     },
     "output_type": "display_data"
    }
   ],
   "source": [
    "#Plotting Age variable Histogram\n",
    "data[\"age\"].plot.hist()\n",
    "plt.xlabel('Age range')  \n",
    "plt.title(\"Age histogram\")"
   ]
  },
  {
   "cell_type": "markdown",
   "metadata": {},
   "source": [
    "Taking a look at the g\n",
    "ender variable statistics in the previous section, it is seen that Men (males) are more likely to be involved in a fatal shooting compared to Females as **442** of the **465** cases analysed are men.In percentage representation: approximately **95% men** and **5% women**. Graphical representation is seen in the Gender distribution graph in the previous section."
   ]
  },
  {
   "cell_type": "code",
   "execution_count": null,
   "metadata": {},
   "outputs": [],
   "source": []
  },
  {
   "cell_type": "markdown",
   "metadata": {},
   "source": [
    "The differences between the number of cases each month does not tend to be large as the standard deviation is approximately 9 cases, however **California**$^{2}$ state stands out when it comes to total number of cases, as it contributes largely to the total fatal cases followed by **Texas**$^{2}$."
   ]
  },
  {
   "cell_type": "code",
   "execution_count": null,
   "metadata": {},
   "outputs": [],
   "source": []
  },
  {
   "cell_type": "code",
   "execution_count": 69,
   "metadata": {},
   "outputs": [],
   "source": [
    "#Graphical representation of cases per month based on mental illness state\n",
    "data[\"signs_of_mental_illness\"] = data[\"signs_of_mental_illness\"].astype(str)\n",
    "months=['Jan','Feb','Mar','Apr','May','Jun']\n",
    "datbar4=pd.DataFrame()\n",
    "for m in months:\n",
    "    temp_data=data.loc[data[\"month\"]==m]    \n",
    "    #freq_arms = stats.itemfreq(temp_data[\"signs_of_mental_illness\"])\n",
    "    freq_ill = np.unique(temp_data[\"signs_of_mental_illness\"],return_counts=True,)\n",
    "    datbar4 = datbar4.append(pd.DataFrame(freq_ill[1:], columns=['False', 'True']),ignore_index=True)\n",
    "datbar4['month']=months\n"
   ]
  },
  {
   "cell_type": "code",
   "execution_count": 76,
   "metadata": {},
   "outputs": [],
   "source": [
    "#Graphical representation of cases per month based on body camera usuage\n",
    "data[\"threat_level\"] = data[\"threat_level\"].astype(str)\n",
    "data[\"body_camera\"] = data[\"body_camera\"].astype(str)\n",
    "months=['Jan','Feb','Mar','Apr','May','Jun']\n",
    "datbar5=pd.DataFrame()\n",
    "for m in months:\n",
    "    temp_data2=data.loc[data[\"month\"]==m]    \n",
    "    #freq_arms = stats.itemfreq(temp_data[\"signs_of_mental_illness\"])\n",
    "    freq_camera = np.unique(temp_data2[\"body_camera\"],return_counts=True,)\n",
    "    datbar5 = datbar5.append(pd.DataFrame(freq_camera[1:], columns=['False', 'True']),ignore_index=True)\n",
    "datbar5['month']=months\n"
   ]
  },
  {
   "cell_type": "code",
   "execution_count": 86,
   "metadata": {},
   "outputs": [
    {
     "data": {
      "text/plain": [
       "<matplotlib.legend.Legend at 0x1d36ecebf28>"
      ]
     },
     "execution_count": 86,
     "metadata": {},
     "output_type": "execute_result"
    },
    {
     "data": {
      "image/png": "[encoded data removed]",
      "text/plain": [
       "<Figure size 1440x576 with 2 Axes>"
      ]
     },
     "metadata": {
      "needs_background": "light"
     },
     "output_type": "display_data"
    }
   ],
   "source": [
    "width = 0.35  # the width of the bars\n",
    "x = np.arange(len(datbar4['month'])) \n",
    "xx = np.arange(len(datbar5['month'])) \n",
    "\n",
    "fig = plt.figure(figsize =(20,8))\n",
    "ax = fig.add_subplot(121)\n",
    "ax.bar(x - width/2, datbar4['False'], width, label='False')\n",
    "ax.bar(x + width/2, datbar4['True'], width, label='True')\n",
    "\n",
    "ax1 = fig.add_subplot(122)\n",
    "ax1.bar(xx - width/2, datbar5['False'], width, label='False')\n",
    "ax1.bar(xx + width/2, datbar5['True'], width, label='True')\n",
    "\n",
    "# Add some text for labels, title and custom x-axis tick labels, etc.\n",
    "ax.set_ylabel('Number of cases')\n",
    "ax.set_title('Number of signs_of_mental_illness for cases per month')\n",
    "ax.set_xticks(x)\n",
    "ax.set_xticklabels(datbar4['month'])\n",
    "\n",
    "ax1.set_ylabel('Number of cases')\n",
    "ax1.set_title('Number of cases with bodycam on Police per month')\n",
    "ax1.set_xticks(xx)\n",
    "ax1.set_xticklabels(datbar5['month'])\n",
    "\n",
    "ax.legend()\n",
    "ax1.legend()"
   ]
  },
  {
   "cell_type": "code",
   "execution_count": null,
   "metadata": {},
   "outputs": [],
   "source": []
  },
  {
   "cell_type": "markdown",
   "metadata": {},
   "source": [
    "The above graphical representations also shows cases per month based on mental illness state and bpdy camera usage. It is seen that less than **35%** of people involved in the fatal shooting have signs of mental illness while the use of body camera is extremely low."
   ]
  },
  {
   "cell_type": "markdown",
   "metadata": {},
   "source": []
  },
  {
   "cell_type": "markdown",
   "metadata": {},
   "source": [
    "### Discussion"
   ]
  },
  {
   "cell_type": "markdown",
   "metadata": {},
   "source": []
  },
  {
   "cell_type": "markdown",
   "metadata": {},
   "source": [
    "It is important to take a look at the racial distribution of the total cases provides, as it very much relates to the motivation for choosing this particular dataset. The analysis is shown below:"
   ]
  },
  {
   "cell_type": "markdown",
   "metadata": {},
   "source": []
  },
  {
   "cell_type": "code",
   "execution_count": 95,
   "metadata": {},
   "outputs": [
    {
     "name": "stderr",
     "output_type": "stream",
     "text": [
      "C:\\Users\\user\\Anaconda31111\\lib\\site-packages\\ipykernel_launcher.py:3: DeprecationWarning: `itemfreq` is deprecated!\n",
      "`itemfreq` is deprecated and will be removed in a future version. Use instead `np.unique(..., return_counts=True)`\n",
      "  This is separate from the ipykernel package so we can avoid doing imports until\n"
     ]
    }
   ],
   "source": [
    "# Calculating the frequency of individual race\n",
    "data[\"race\"] = data[\"race\"].astype(str)\n",
    "freq_density = stats.itemfreq(data[\"race\"])\n",
    "# Calculations on frequency are transformed to DataFrame(df1)\n",
    "datbar1 = pd.DataFrame(freq_density, columns=['race','Frequency1'])\n",
    "\n",
    "#sorting the dataframe\n",
    "datbar1[\"sorter\"]=[1,2,4,3,5,6,7]\n",
    "datbar1=datbar1.sort_values(by=\"sorter\",ascending=True)\n",
    "\n",
    "F = datbar1['Frequency1'].iloc[0:8]\n",
    "# Calculating percentage distribution \n",
    "Frequency_Density = F *100/465"
   ]
  },
  {
   "cell_type": "markdown",
   "metadata": {},
   "source": [
    "W: White, non-Hispanic B: Black, non-Hispanic A: Asian N: Native American H: Hispanic O: Other None: unknown"
   ]
  },
  {
   "cell_type": "code",
   "execution_count": 101,
   "metadata": {},
   "outputs": [
    {
     "data": {
      "image/png": "[encoded data removed]",
      "text/plain": [
       "<Figure size 432x288 with 1 Axes>"
      ]
     },
     "metadata": {},
     "output_type": "display_data"
    }
   ],
   "source": [
    "\n",
    "#Define the labels for your slices\n",
    "labels = 'Asian', 'Black', 'Native', 'Hispanic',  'Others', 'White', 'Unknown'\n",
    "#Define the size of the slices.\n",
    "sizes = Frequency_Density\n",
    "\n",
    "# Defining that everything is plotted together.\n",
    "fig1, ax1 = plt.subplots()\n",
    "\n",
    "# Filling the pie with information\n",
    "# Now, that we defined the plot above it's not necessary to use plt. in front of plot related functions, e.g. ax1.pie()\n",
    "ax1.pie(sizes, labels=labels, autopct='%1.1f%%', startangle=180)\n",
    "\n",
    "# Equal aspect ratio ensures that pie is drawn as a circle.\n",
    "ax1.axis('equal')  \n",
    "\n",
    "# Add a title\n",
    "plt.title(\"Pie Chart showing Race Distribution\")\n",
    "\n",
    "plt.show()"
   ]
  },
  {
   "cell_type": "markdown",
   "metadata": {},
   "source": [
    "From the pie chart above the White race accounts for more than half of the total fatal cases (January - June 2015) then folllowed by the Black race living in USA. However it further analysis can be done to ascertain the ratio of the total population of each race to the number of cases presented here."
   ]
  },
  {
   "cell_type": "markdown",
   "metadata": {},
   "source": [
    "Also, a look into the \"armed\" state of people involved in this fatal cases, shows over 50% were armed with guns followed by Knives. A stricter gun control law should reduce the frequency of cases drastically. The graph is displayed below."
   ]
  },
  {
   "cell_type": "code",
   "execution_count": 23,
   "metadata": {},
   "outputs": [],
   "source": []
  },
  {
   "cell_type": "code",
   "execution_count": 73,
   "metadata": {},
   "outputs": [
    {
     "name": "stderr",
     "output_type": "stream",
     "text": [
      "C:\\Users\\user\\Anaconda31111\\lib\\site-packages\\ipykernel_launcher.py:2: DeprecationWarning: `itemfreq` is deprecated!\n",
      "`itemfreq` is deprecated and will be removed in a future version. Use instead `np.unique(..., return_counts=True)`\n",
      "  \n"
     ]
    }
   ],
   "source": [
    "data[\"armed\"] = data[\"armed\"].astype(str)\n",
    "freq_arms = stats.itemfreq(data[\"armed\"])\n",
    "# Calculations on frequency are transformed to DataFrame(df1)\n",
    "datbar3 = pd.DataFrame(freq_arms, columns=['Arm_type', 'Arm_Frequency'])\n",
    "F3 = datbar3['Arm_Frequency'].iloc[0:8]\n"
   ]
  },
  {
   "cell_type": "code",
   "execution_count": 103,
   "metadata": {},
   "outputs": [
    {
     "data": {
      "image/png": "[encoded data removed]",
      "text/plain": [
       "<Figure size 432x288 with 1 Axes>"
      ]
     },
     "metadata": {
      "needs_background": "light"
     },
     "output_type": "display_data"
    }
   ],
   "source": [
    "Arm_type = datbar3[\"Arm_type\"]  \n",
    "Arm_Frequency = datbar3[\"Arm_Frequency\"]  \n",
    "\n",
    "plt.bar(Arm_type, Arm_Frequency)\n",
    "plt.xticks(rotation=90)\n",
    "# Easily change the labels\n",
    "plt.xlabel('Arm_type')  \n",
    "plt.ylabel('Arm_Frequency')\n",
    "plt.title('Armed state of peopple involved')\n",
    "plt.show()"
   ]
  },
  {
   "cell_type": "markdown",
   "metadata": {},
   "source": []
  },
  {
   "cell_type": "markdown",
   "metadata": {},
   "source": [
    "The large difference in gender statistic is also alarming. As more males are involved in ratio 1 woman to 19 men. More social rehabilitation$^{3}$ should be targeted towards men especially in the age bracket 25 to 40 (as seen in the graph below), this should ultimately reduce the trend. "
   ]
  },
  {
   "cell_type": "code",
   "execution_count": 109,
   "metadata": {},
   "outputs": [
    {
     "data": {
      "text/plain": [
       "Text(0.5, 1.0, 'Sign of Mental Illness with respect to age')"
      ]
     },
     "execution_count": 109,
     "metadata": {},
     "output_type": "execute_result"
    },
    {
     "data": {
      "image/png": "[encoded data removed]",
      "text/plain": [
       "<Figure size 1800x1008 with 1 Axes>"
      ]
     },
     "metadata": {},
     "output_type": "display_data"
    }
   ],
   "source": [
    "sns.set(rc={'figure.figsize':(25, 14)})\n",
    "sns.countplot(x = \"age\", hue = \"signs_of_mental_illness\",data = data, palette = 'Set2')\n",
    "plt.title('Sign of Mental Illness with respect to age')"
   ]
  },
  {
   "cell_type": "markdown",
   "metadata": {},
   "source": []
  },
  {
   "cell_type": "markdown",
   "metadata": {},
   "source": [
    "### References"
   ]
  },
  {
   "cell_type": "markdown",
   "metadata": {},
   "source": [
    "1. Andriy Samoshin, Data Police shootings https://www.kaggle.com/mrmorj/data-police-shootings. (Accessed: 01.07.2020).\n",
    "2. List of All 50 US State Abbreviations, https://abbreviations.yourdictionary.com/articles/state-abbrev.html (Accessed: 18.07.2020).\n",
    "3. Pam M.S. SOCIAL REHABILITATION. https://psychologydictionary.org/social-rehabilitation/#:~:text=The%20achievement%20of%20a%20higher,with%20physical%20impairments%20or%20disabilities. (Created: April 13, 2013, Accessed: 23.07.2020)."
   ]
  },
  {
   "cell_type": "markdown",
   "metadata": {},
   "source": []
  }
 ],
 "metadata": {
  "kernelspec": {
   "display_name": "Python 3",
   "language": "python",
   "name": "python3"
  },
  "language_info": {
   "codemirror_mode": {
    "name": "ipython",
    "version": 3
   },
   "file_extension": ".py",
   "mimetype": "text/x-python",
   "name": "python",
   "nbconvert_exporter": "python",
   "pygments_lexer": "ipython3",
   "version": "3.7.3"
  }
 },
 "nbformat": 4,
 "nbformat_minor": 2
}
